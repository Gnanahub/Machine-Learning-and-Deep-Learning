{
 "cells": [
  {
   "cell_type": "markdown",
   "id": "63654239",
   "metadata": {
    "papermill": {
     "duration": 0.022735,
     "end_time": "2022-09-16T10:59:53.040897",
     "exception": false,
     "start_time": "2022-09-16T10:59:53.018162",
     "status": "completed"
    },
    "tags": []
   },
   "source": [
    "# Predicting the quotes with the help of Machine Learning and Deep Learning."
   ]
  },
  {
   "cell_type": "markdown",
   "id": "c3860335",
   "metadata": {
    "papermill": {
     "duration": 0.02067,
     "end_time": "2022-09-16T10:59:53.083724",
     "exception": false,
     "start_time": "2022-09-16T10:59:53.063054",
     "status": "completed"
    },
    "tags": []
   },
   "source": [
    "In this notebook we will try to go through and understand the Natural language processing task at a basic level , we will be going to ues two dataset for this tasks, because of the smaller dataset , it will be merged into another dataset of the same type, our task is to build the machine learning model which can able to predict the type of anime based on the quote and character. </span>"
   ]
  },
  {
   "cell_type": "markdown",
   "id": "9050be77",
   "metadata": {
    "papermill": {
     "duration": 0.020372,
     "end_time": "2022-09-16T10:59:53.125150",
     "exception": false,
     "start_time": "2022-09-16T10:59:53.104778",
     "status": "completed"
    },
    "tags": []
   },
   "source": [
    "We will be using the whole machine learning pipeline in it.\n",
    "\n",
    "1. Read in the data from different dataframes.\n",
    "2. Cleaning the text and tokenization.\n",
    "3. Feature Engineering.\n",
    "4. Fit simple model.\n",
    "5. Tune hyperparameter and evaluate with GridSearchCV"
   ]
  },
  {
   "cell_type": "code",
   "execution_count": 1,
   "id": "62979832",
   "metadata": {
    "papermill": {
     "duration": 0.0354,
     "end_time": "2022-09-16T10:59:53.181168",
     "exception": false,
     "start_time": "2022-09-16T10:59:53.145768",
     "status": "completed"
    },
    "tags": []
   },
   "outputs": [],
   "source": [
    "import re\n",
    "import pandas as pd\n",
    "import numpy as np\n",
    "import warnings\n",
    "warnings.filterwarnings('ignore')"
   ]
  },
  {
   "cell_type": "code",
   "execution_count": 2,
   "id": "f678ab2b",
   "metadata": {
    "papermill": {
     "duration": 0.045094,
     "end_time": "2022-09-16T10:59:53.247021",
     "exception": false,
     "start_time": "2022-09-16T10:59:53.201927",
     "status": "completed"
    },
    "tags": []
   },
   "outputs": [],
   "source": [
    "#loading the dataset into the columns\n",
    "data = pd.read_csv('AnimeQuotes.csv')"
   ]
  },
  {
   "cell_type": "code",
   "execution_count": 3,
   "id": "e5905b16",
   "metadata": {
    "papermill": {
     "duration": 0.031701,
     "end_time": "2022-09-16T10:59:53.300382",
     "exception": false,
     "start_time": "2022-09-16T10:59:53.268681",
     "status": "completed"
    },
    "tags": []
   },
   "outputs": [
    {
     "data": {
      "text/plain": [
       "(121, 3)"
      ]
     },
     "execution_count": 3,
     "metadata": {},
     "output_type": "execute_result"
    }
   ],
   "source": [
    "data.shape"
   ]
  },
  {
   "cell_type": "code",
   "execution_count": 4,
   "id": "83cd4c07",
   "metadata": {
    "papermill": {
     "duration": 0.038246,
     "end_time": "2022-09-16T10:59:53.359129",
     "exception": false,
     "start_time": "2022-09-16T10:59:53.320883",
     "status": "completed"
    },
    "tags": []
   },
   "outputs": [
    {
     "data": {
      "text/html": [
       "<div>\n",
       "<style scoped>\n",
       "    .dataframe tbody tr th:only-of-type {\n",
       "        vertical-align: middle;\n",
       "    }\n",
       "\n",
       "    .dataframe tbody tr th {\n",
       "        vertical-align: top;\n",
       "    }\n",
       "\n",
       "    .dataframe thead th {\n",
       "        text-align: right;\n",
       "    }\n",
       "</style>\n",
       "<table border=\"1\" class=\"dataframe\">\n",
       "  <thead>\n",
       "    <tr style=\"text-align: right;\">\n",
       "      <th></th>\n",
       "      <th>Quote</th>\n",
       "      <th>Character</th>\n",
       "      <th>Anime</th>\n",
       "    </tr>\n",
       "  </thead>\n",
       "  <tbody>\n",
       "    <tr>\n",
       "      <th>0</th>\n",
       "      <td>People’s lives don’t end when they die, it end...</td>\n",
       "      <td>Itachi Uchiha</td>\n",
       "      <td>Naruto</td>\n",
       "    </tr>\n",
       "    <tr>\n",
       "      <th>1</th>\n",
       "      <td>If you don’t take risks, you can’t create a fu...</td>\n",
       "      <td>Monkey D Luffy</td>\n",
       "      <td>One Piece</td>\n",
       "    </tr>\n",
       "    <tr>\n",
       "      <th>2</th>\n",
       "      <td>If you don’t like your destiny, don’t accept it.</td>\n",
       "      <td>Naruto Uzumaki</td>\n",
       "      <td>Naruto</td>\n",
       "    </tr>\n",
       "    <tr>\n",
       "      <th>3</th>\n",
       "      <td>When you give up, that’s when the game ends.</td>\n",
       "      <td>Mitsuyoshi Anzai</td>\n",
       "      <td>Slam Dunk</td>\n",
       "    </tr>\n",
       "    <tr>\n",
       "      <th>4</th>\n",
       "      <td>All we can do is live until the day we die. Co...</td>\n",
       "      <td>Deneil Young</td>\n",
       "      <td>Uchuu Kyoudai or Space Brothers</td>\n",
       "    </tr>\n",
       "  </tbody>\n",
       "</table>\n",
       "</div>"
      ],
      "text/plain": [
       "                                               Quote         Character  \\\n",
       "0  People’s lives don’t end when they die, it end...     Itachi Uchiha   \n",
       "1  If you don’t take risks, you can’t create a fu...    Monkey D Luffy   \n",
       "2   If you don’t like your destiny, don’t accept it.    Naruto Uzumaki   \n",
       "3       When you give up, that’s when the game ends.  Mitsuyoshi Anzai   \n",
       "4  All we can do is live until the day we die. Co...      Deneil Young   \n",
       "\n",
       "                             Anime  \n",
       "0                           Naruto  \n",
       "1                        One Piece  \n",
       "2                           Naruto  \n",
       "3                        Slam Dunk  \n",
       "4  Uchuu Kyoudai or Space Brothers  "
      ]
     },
     "execution_count": 4,
     "metadata": {},
     "output_type": "execute_result"
    }
   ],
   "source": [
    "data.head()"
   ]
  },
  {
   "cell_type": "code",
   "execution_count": 5,
   "id": "fb2ef2ed",
   "metadata": {
    "papermill": {
     "duration": 0.046758,
     "end_time": "2022-09-16T10:59:53.427219",
     "exception": false,
     "start_time": "2022-09-16T10:59:53.380461",
     "status": "completed"
    },
    "tags": []
   },
   "outputs": [
    {
     "name": "stdout",
     "output_type": "stream",
     "text": [
      "<class 'pandas.core.frame.DataFrame'>\n",
      "RangeIndex: 121 entries, 0 to 120\n",
      "Data columns (total 3 columns):\n",
      " #   Column     Non-Null Count  Dtype \n",
      "---  ------     --------------  ----- \n",
      " 0   Quote      121 non-null    object\n",
      " 1   Character  121 non-null    object\n",
      " 2   Anime      120 non-null    object\n",
      "dtypes: object(3)\n",
      "memory usage: 3.0+ KB\n"
     ]
    }
   ],
   "source": [
    "data.info()"
   ]
  },
  {
   "cell_type": "code",
   "execution_count": 6,
   "id": "70799c5e",
   "metadata": {
    "papermill": {
     "duration": 0.054126,
     "end_time": "2022-09-16T10:59:53.506752",
     "exception": false,
     "start_time": "2022-09-16T10:59:53.452626",
     "status": "completed"
    },
    "tags": []
   },
   "outputs": [
    {
     "data": {
      "text/plain": [
       "Attack on Titan                      12\n",
       "Naruto                               10\n",
       "Haikyuu                              10\n",
       "One Piece                             7\n",
       "Fairy Tail                            5\n",
       "Bleach                                3\n",
       "Rurouni Kenshin                       3\n",
       "One Punch Man                         3\n",
       "A Place Further than the Universe     3\n",
       "Log Horizon                           3\n",
       "Name: Anime, dtype: int64"
      ]
     },
     "execution_count": 6,
     "metadata": {},
     "output_type": "execute_result"
    }
   ],
   "source": [
    "data.Anime.value_counts().head(10)"
   ]
  },
  {
   "cell_type": "code",
   "execution_count": 7,
   "id": "b3bca3fe",
   "metadata": {
    "papermill": {
     "duration": 0.029704,
     "end_time": "2022-09-16T10:59:53.573224",
     "exception": false,
     "start_time": "2022-09-16T10:59:53.543520",
     "status": "completed"
    },
    "tags": []
   },
   "outputs": [],
   "source": [
    "genre = pd.DataFrame(data.Anime.value_counts().head(10))\n",
    "#Genre = pd.DataFrame(genre)"
   ]
  },
  {
   "cell_type": "code",
   "execution_count": 8,
   "id": "3e5d7796",
   "metadata": {
    "papermill": {
     "duration": 0.032853,
     "end_time": "2022-09-16T10:59:53.627291",
     "exception": false,
     "start_time": "2022-09-16T10:59:53.594438",
     "status": "completed"
    },
    "tags": []
   },
   "outputs": [
    {
     "data": {
      "text/html": [
       "<div>\n",
       "<style scoped>\n",
       "    .dataframe tbody tr th:only-of-type {\n",
       "        vertical-align: middle;\n",
       "    }\n",
       "\n",
       "    .dataframe tbody tr th {\n",
       "        vertical-align: top;\n",
       "    }\n",
       "\n",
       "    .dataframe thead th {\n",
       "        text-align: right;\n",
       "    }\n",
       "</style>\n",
       "<table border=\"1\" class=\"dataframe\">\n",
       "  <thead>\n",
       "    <tr style=\"text-align: right;\">\n",
       "      <th></th>\n",
       "      <th>Anime</th>\n",
       "    </tr>\n",
       "  </thead>\n",
       "  <tbody>\n",
       "    <tr>\n",
       "      <th>Attack on Titan</th>\n",
       "      <td>12</td>\n",
       "    </tr>\n",
       "    <tr>\n",
       "      <th>Naruto</th>\n",
       "      <td>10</td>\n",
       "    </tr>\n",
       "    <tr>\n",
       "      <th>Haikyuu</th>\n",
       "      <td>10</td>\n",
       "    </tr>\n",
       "    <tr>\n",
       "      <th>One Piece</th>\n",
       "      <td>7</td>\n",
       "    </tr>\n",
       "    <tr>\n",
       "      <th>Fairy Tail</th>\n",
       "      <td>5</td>\n",
       "    </tr>\n",
       "    <tr>\n",
       "      <th>Bleach</th>\n",
       "      <td>3</td>\n",
       "    </tr>\n",
       "    <tr>\n",
       "      <th>Rurouni Kenshin</th>\n",
       "      <td>3</td>\n",
       "    </tr>\n",
       "    <tr>\n",
       "      <th>One Punch Man</th>\n",
       "      <td>3</td>\n",
       "    </tr>\n",
       "    <tr>\n",
       "      <th>A Place Further than the Universe</th>\n",
       "      <td>3</td>\n",
       "    </tr>\n",
       "    <tr>\n",
       "      <th>Log Horizon</th>\n",
       "      <td>3</td>\n",
       "    </tr>\n",
       "  </tbody>\n",
       "</table>\n",
       "</div>"
      ],
      "text/plain": [
       "                                   Anime\n",
       "Attack on Titan                       12\n",
       "Naruto                                10\n",
       "Haikyuu                               10\n",
       "One Piece                              7\n",
       "Fairy Tail                             5\n",
       "Bleach                                 3\n",
       "Rurouni Kenshin                        3\n",
       "One Punch Man                          3\n",
       "A Place Further than the Universe      3\n",
       "Log Horizon                            3"
      ]
     },
     "execution_count": 8,
     "metadata": {},
     "output_type": "execute_result"
    }
   ],
   "source": [
    "genre"
   ]
  },
  {
   "cell_type": "code",
   "execution_count": 9,
   "id": "e66ae787",
   "metadata": {
    "papermill": {
     "duration": 0.299484,
     "end_time": "2022-09-16T10:59:53.948880",
     "exception": false,
     "start_time": "2022-09-16T10:59:53.649396",
     "status": "completed"
    },
    "tags": []
   },
   "outputs": [
    {
     "data": {
      "image/png": "[encoded data removed]",
      "text/plain": [
       "<Figure size 640x480 with 1 Axes>"
      ]
     },
     "metadata": {},
     "output_type": "display_data"
    }
   ],
   "source": [
    "import matplotlib.pyplot as plt\n",
    "\n",
    "\n",
    "plt.plot(genre)\n",
    "plt.xlabel(\"Anime\")\n",
    "plt.ylabel(\"Number\")\n",
    "plt.title(\"Top 10 Animes\")\n",
    "plt.xticks(rotation=70)\n",
    "plt.grid(True)\n",
    "plt.show()"
   ]
  },
  {
   "cell_type": "markdown",
   "id": "d155a3f4",
   "metadata": {
    "papermill": {
     "duration": 0.021984,
     "end_time": "2022-09-16T10:59:53.993800",
     "exception": false,
     "start_time": "2022-09-16T10:59:53.971816",
     "status": "completed"
    },
    "tags": []
   },
   "source": [
    "# ** Starting off Analysis with the second dataset"
   ]
  },
  {
   "cell_type": "code",
   "execution_count": 14,
   "id": "a75f1b55",
   "metadata": {
    "papermill": {
     "duration": 0.085975,
     "end_time": "2022-09-16T10:59:54.101689",
     "exception": false,
     "start_time": "2022-09-16T10:59:54.015714",
     "status": "completed"
    },
    "tags": []
   },
   "outputs": [],
   "source": [
    "data2 = pd.read_csv('lessreal-data.csv',delimiter=';', skiprows=0, low_memory=False)"
   ]
  },
  {
   "cell_type": "code",
   "execution_count": 15,
   "id": "d5fe3ee4",
   "metadata": {
    "papermill": {
     "duration": 0.039775,
     "end_time": "2022-09-16T10:59:54.163486",
     "exception": false,
     "start_time": "2022-09-16T10:59:54.123711",
     "status": "completed"
    },
    "tags": []
   },
   "outputs": [
    {
     "data": {
      "text/html": [
       "<div>\n",
       "<style scoped>\n",
       "    .dataframe tbody tr th:only-of-type {\n",
       "        vertical-align: middle;\n",
       "    }\n",
       "\n",
       "    .dataframe tbody tr th {\n",
       "        vertical-align: top;\n",
       "    }\n",
       "\n",
       "    .dataframe thead th {\n",
       "        text-align: right;\n",
       "    }\n",
       "</style>\n",
       "<table border=\"1\" class=\"dataframe\">\n",
       "  <thead>\n",
       "    <tr style=\"text-align: right;\">\n",
       "      <th></th>\n",
       "      <th>ID</th>\n",
       "      <th>Anime</th>\n",
       "      <th>Character</th>\n",
       "      <th>Quote</th>\n",
       "      <th>Unnamed: 4</th>\n",
       "      <th>Unnamed: 5</th>\n",
       "      <th>Unnamed: 6</th>\n",
       "      <th>Unnamed: 7</th>\n",
       "      <th>Unnamed: 8</th>\n",
       "      <th>Unnamed: 9</th>\n",
       "      <th>Unnamed: 10</th>\n",
       "      <th>Unnamed: 11</th>\n",
       "    </tr>\n",
       "  </thead>\n",
       "  <tbody>\n",
       "    <tr>\n",
       "      <th>0</th>\n",
       "      <td>0</td>\n",
       "      <td>(Soul Eater)</td>\n",
       "      <td>Soul Eater</td>\n",
       "      <td>In the end the shape and form don't matter at ...</td>\n",
       "      <td>NaN</td>\n",
       "      <td>NaN</td>\n",
       "      <td>NaN</td>\n",
       "      <td>NaN</td>\n",
       "      <td>NaN</td>\n",
       "      <td>NaN</td>\n",
       "      <td>NaN</td>\n",
       "      <td>NaN</td>\n",
       "    </tr>\n",
       "    <tr>\n",
       "      <th>1</th>\n",
       "      <td>1</td>\n",
       "      <td>(ReLIFE)</td>\n",
       "      <td>Ooga Kazuomi</td>\n",
       "      <td>I'm still a man too, I wanted to look calm and...</td>\n",
       "      <td>NaN</td>\n",
       "      <td>NaN</td>\n",
       "      <td>NaN</td>\n",
       "      <td>NaN</td>\n",
       "      <td>NaN</td>\n",
       "      <td>NaN</td>\n",
       "      <td>NaN</td>\n",
       "      <td>NaN</td>\n",
       "    </tr>\n",
       "    <tr>\n",
       "      <th>2</th>\n",
       "      <td>2</td>\n",
       "      <td>(Psycho-Pass Extended Edition)</td>\n",
       "      <td>Makishima Shougo</td>\n",
       "      <td>Clausewitz, he pointed out that no matter how ...</td>\n",
       "      <td>NaN</td>\n",
       "      <td>NaN</td>\n",
       "      <td>NaN</td>\n",
       "      <td>NaN</td>\n",
       "      <td>NaN</td>\n",
       "      <td>NaN</td>\n",
       "      <td>NaN</td>\n",
       "      <td>NaN</td>\n",
       "    </tr>\n",
       "    <tr>\n",
       "      <th>3</th>\n",
       "      <td>3</td>\n",
       "      <td>(Naruto)</td>\n",
       "      <td>Pain</td>\n",
       "      <td>Because of the existence of love - sacrifice i...</td>\n",
       "      <td>NaN</td>\n",
       "      <td>NaN</td>\n",
       "      <td>NaN</td>\n",
       "      <td>NaN</td>\n",
       "      <td>NaN</td>\n",
       "      <td>NaN</td>\n",
       "      <td>NaN</td>\n",
       "      <td>NaN</td>\n",
       "    </tr>\n",
       "    <tr>\n",
       "      <th>4</th>\n",
       "      <td>4</td>\n",
       "      <td>(Detective Conan)</td>\n",
       "      <td>Ran Mouri</td>\n",
       "      <td>Courage is a word of justice. It means the qua...</td>\n",
       "      <td>NaN</td>\n",
       "      <td>NaN</td>\n",
       "      <td>NaN</td>\n",
       "      <td>NaN</td>\n",
       "      <td>NaN</td>\n",
       "      <td>NaN</td>\n",
       "      <td>NaN</td>\n",
       "      <td>NaN</td>\n",
       "    </tr>\n",
       "  </tbody>\n",
       "</table>\n",
       "</div>"
      ],
      "text/plain": [
       "  ID                           Anime         Character  \\\n",
       "0  0                    (Soul Eater)        Soul Eater   \n",
       "1  1                        (ReLIFE)      Ooga Kazuomi   \n",
       "2  2  (Psycho-Pass Extended Edition)  Makishima Shougo   \n",
       "3  3                        (Naruto)              Pain   \n",
       "4  4               (Detective Conan)         Ran Mouri   \n",
       "\n",
       "                                               Quote Unnamed: 4 Unnamed: 5  \\\n",
       "0  In the end the shape and form don't matter at ...        NaN        NaN   \n",
       "1  I'm still a man too, I wanted to look calm and...        NaN        NaN   \n",
       "2  Clausewitz, he pointed out that no matter how ...        NaN        NaN   \n",
       "3  Because of the existence of love - sacrifice i...        NaN        NaN   \n",
       "4  Courage is a word of justice. It means the qua...        NaN        NaN   \n",
       "\n",
       "  Unnamed: 6 Unnamed: 7 Unnamed: 8 Unnamed: 9 Unnamed: 10 Unnamed: 11  \n",
       "0        NaN        NaN        NaN        NaN         NaN         NaN  \n",
       "1        NaN        NaN        NaN        NaN         NaN         NaN  \n",
       "2        NaN        NaN        NaN        NaN         NaN         NaN  \n",
       "3        NaN        NaN        NaN        NaN         NaN         NaN  \n",
       "4        NaN        NaN        NaN        NaN         NaN         NaN  "
      ]
     },
     "execution_count": 15,
     "metadata": {},
     "output_type": "execute_result"
    }
   ],
   "source": [
    "data2.head()"
   ]
  },
  {
   "cell_type": "code",
   "execution_count": 16,
   "id": "0aff3a98",
   "metadata": {
    "papermill": {
     "duration": 0.048365,
     "end_time": "2022-09-16T10:59:54.257655",
     "exception": false,
     "start_time": "2022-09-16T10:59:54.209290",
     "status": "completed"
    },
    "tags": []
   },
   "outputs": [
    {
     "data": {
      "text/plain": [
       "(8760, 12)"
      ]
     },
     "execution_count": 16,
     "metadata": {},
     "output_type": "execute_result"
    }
   ],
   "source": [
    "data2.shape"
   ]
  },
  {
   "cell_type": "code",
   "execution_count": 17,
   "id": "43804181",
   "metadata": {
    "papermill": {
     "duration": 0.040702,
     "end_time": "2022-09-16T10:59:54.320599",
     "exception": false,
     "start_time": "2022-09-16T10:59:54.279897",
     "status": "completed"
    },
    "tags": []
   },
   "outputs": [
    {
     "name": "stdout",
     "output_type": "stream",
     "text": [
      "<class 'pandas.core.frame.DataFrame'>\n",
      "RangeIndex: 8760 entries, 0 to 8759\n",
      "Data columns (total 12 columns):\n",
      " #   Column       Non-Null Count  Dtype \n",
      "---  ------       --------------  ----- \n",
      " 0   ID           8494 non-null   object\n",
      " 1   Anime        8436 non-null   object\n",
      " 2   Character    8366 non-null   object\n",
      " 3   Quote        8356 non-null   object\n",
      " 4   Unnamed: 4   2 non-null      object\n",
      " 5   Unnamed: 5   1 non-null      object\n",
      " 6   Unnamed: 6   1 non-null      object\n",
      " 7   Unnamed: 7   1 non-null      object\n",
      " 8   Unnamed: 8   1 non-null      object\n",
      " 9   Unnamed: 9   1 non-null      object\n",
      " 10  Unnamed: 10  1 non-null      object\n",
      " 11  Unnamed: 11  1 non-null      object\n",
      "dtypes: object(12)\n",
      "memory usage: 821.4+ KB\n"
     ]
    }
   ],
   "source": [
    "data2.info()"
   ]
  },
  {
   "cell_type": "code",
   "execution_count": 18,
   "id": "339706a7",
   "metadata": {
    "papermill": {
     "duration": 0.036722,
     "end_time": "2022-09-16T10:59:54.381450",
     "exception": false,
     "start_time": "2022-09-16T10:59:54.344728",
     "status": "completed"
    },
    "tags": []
   },
   "outputs": [
    {
     "data": {
      "text/plain": [
       "ID              266\n",
       "Anime           324\n",
       "Character       394\n",
       "Quote           404\n",
       "Unnamed: 4     8758\n",
       "Unnamed: 5     8759\n",
       "Unnamed: 6     8759\n",
       "Unnamed: 7     8759\n",
       "Unnamed: 8     8759\n",
       "Unnamed: 9     8759\n",
       "Unnamed: 10    8759\n",
       "Unnamed: 11    8759\n",
       "dtype: int64"
      ]
     },
     "execution_count": 18,
     "metadata": {},
     "output_type": "execute_result"
    }
   ],
   "source": [
    "data2.isnull().sum()"
   ]
  },
  {
   "cell_type": "code",
   "execution_count": 19,
   "id": "b078b849",
   "metadata": {
    "papermill": {
     "duration": 0.033065,
     "end_time": "2022-09-16T10:59:54.436742",
     "exception": false,
     "start_time": "2022-09-16T10:59:54.403677",
     "status": "completed"
    },
    "tags": []
   },
   "outputs": [],
   "source": [
    "data2.drop(data2.iloc[:,4:12],axis=1,inplace=True) #so here we have removed the unnecesary rows from our dataset to make it more cleaner"
   ]
  },
  {
   "cell_type": "code",
   "execution_count": 20,
   "id": "7dc4b47e",
   "metadata": {
    "papermill": {
     "duration": 0.035411,
     "end_time": "2022-09-16T10:59:54.496699",
     "exception": false,
     "start_time": "2022-09-16T10:59:54.461288",
     "status": "completed"
    },
    "tags": []
   },
   "outputs": [
    {
     "data": {
      "text/html": [
       "<div>\n",
       "<style scoped>\n",
       "    .dataframe tbody tr th:only-of-type {\n",
       "        vertical-align: middle;\n",
       "    }\n",
       "\n",
       "    .dataframe tbody tr th {\n",
       "        vertical-align: top;\n",
       "    }\n",
       "\n",
       "    .dataframe thead th {\n",
       "        text-align: right;\n",
       "    }\n",
       "</style>\n",
       "<table border=\"1\" class=\"dataframe\">\n",
       "  <thead>\n",
       "    <tr style=\"text-align: right;\">\n",
       "      <th></th>\n",
       "      <th>ID</th>\n",
       "      <th>Anime</th>\n",
       "      <th>Character</th>\n",
       "      <th>Quote</th>\n",
       "    </tr>\n",
       "  </thead>\n",
       "  <tbody>\n",
       "    <tr>\n",
       "      <th>0</th>\n",
       "      <td>0</td>\n",
       "      <td>(Soul Eater)</td>\n",
       "      <td>Soul Eater</td>\n",
       "      <td>In the end the shape and form don't matter at ...</td>\n",
       "    </tr>\n",
       "    <tr>\n",
       "      <th>1</th>\n",
       "      <td>1</td>\n",
       "      <td>(ReLIFE)</td>\n",
       "      <td>Ooga Kazuomi</td>\n",
       "      <td>I'm still a man too, I wanted to look calm and...</td>\n",
       "    </tr>\n",
       "    <tr>\n",
       "      <th>2</th>\n",
       "      <td>2</td>\n",
       "      <td>(Psycho-Pass Extended Edition)</td>\n",
       "      <td>Makishima Shougo</td>\n",
       "      <td>Clausewitz, he pointed out that no matter how ...</td>\n",
       "    </tr>\n",
       "    <tr>\n",
       "      <th>3</th>\n",
       "      <td>3</td>\n",
       "      <td>(Naruto)</td>\n",
       "      <td>Pain</td>\n",
       "      <td>Because of the existence of love - sacrifice i...</td>\n",
       "    </tr>\n",
       "    <tr>\n",
       "      <th>4</th>\n",
       "      <td>4</td>\n",
       "      <td>(Detective Conan)</td>\n",
       "      <td>Ran Mouri</td>\n",
       "      <td>Courage is a word of justice. It means the qua...</td>\n",
       "    </tr>\n",
       "  </tbody>\n",
       "</table>\n",
       "</div>"
      ],
      "text/plain": [
       "  ID                           Anime         Character  \\\n",
       "0  0                    (Soul Eater)        Soul Eater   \n",
       "1  1                        (ReLIFE)      Ooga Kazuomi   \n",
       "2  2  (Psycho-Pass Extended Edition)  Makishima Shougo   \n",
       "3  3                        (Naruto)              Pain   \n",
       "4  4               (Detective Conan)         Ran Mouri   \n",
       "\n",
       "                                               Quote  \n",
       "0  In the end the shape and form don't matter at ...  \n",
       "1  I'm still a man too, I wanted to look calm and...  \n",
       "2  Clausewitz, he pointed out that no matter how ...  \n",
       "3  Because of the existence of love - sacrifice i...  \n",
       "4  Courage is a word of justice. It means the qua...  "
      ]
     },
     "execution_count": 20,
     "metadata": {},
     "output_type": "execute_result"
    }
   ],
   "source": [
    "data2.head()"
   ]
  },
  {
   "cell_type": "code",
   "execution_count": 21,
   "id": "0ae2cd1c",
   "metadata": {
    "papermill": {
     "duration": 0.038842,
     "end_time": "2022-09-16T10:59:54.557831",
     "exception": false,
     "start_time": "2022-09-16T10:59:54.518989",
     "status": "completed"
    },
    "tags": []
   },
   "outputs": [
    {
     "data": {
      "text/html": [
       "<div>\n",
       "<style scoped>\n",
       "    .dataframe tbody tr th:only-of-type {\n",
       "        vertical-align: middle;\n",
       "    }\n",
       "\n",
       "    .dataframe tbody tr th {\n",
       "        vertical-align: top;\n",
       "    }\n",
       "\n",
       "    .dataframe thead th {\n",
       "        text-align: right;\n",
       "    }\n",
       "</style>\n",
       "<table border=\"1\" class=\"dataframe\">\n",
       "  <thead>\n",
       "    <tr style=\"text-align: right;\">\n",
       "      <th></th>\n",
       "      <th>Anime</th>\n",
       "      <th>Character</th>\n",
       "      <th>Quote</th>\n",
       "    </tr>\n",
       "  </thead>\n",
       "  <tbody>\n",
       "    <tr>\n",
       "      <th>0</th>\n",
       "      <td>(Soul Eater)</td>\n",
       "      <td>Soul Eater</td>\n",
       "      <td>In the end the shape and form don't matter at ...</td>\n",
       "    </tr>\n",
       "    <tr>\n",
       "      <th>1</th>\n",
       "      <td>(ReLIFE)</td>\n",
       "      <td>Ooga Kazuomi</td>\n",
       "      <td>I'm still a man too, I wanted to look calm and...</td>\n",
       "    </tr>\n",
       "    <tr>\n",
       "      <th>2</th>\n",
       "      <td>(Psycho-Pass Extended Edition)</td>\n",
       "      <td>Makishima Shougo</td>\n",
       "      <td>Clausewitz, he pointed out that no matter how ...</td>\n",
       "    </tr>\n",
       "    <tr>\n",
       "      <th>3</th>\n",
       "      <td>(Naruto)</td>\n",
       "      <td>Pain</td>\n",
       "      <td>Because of the existence of love - sacrifice i...</td>\n",
       "    </tr>\n",
       "    <tr>\n",
       "      <th>4</th>\n",
       "      <td>(Detective Conan)</td>\n",
       "      <td>Ran Mouri</td>\n",
       "      <td>Courage is a word of justice. It means the qua...</td>\n",
       "    </tr>\n",
       "    <tr>\n",
       "      <th>...</th>\n",
       "      <td>...</td>\n",
       "      <td>...</td>\n",
       "      <td>...</td>\n",
       "    </tr>\n",
       "    <tr>\n",
       "      <th>8755</th>\n",
       "      <td>(Mobile Suit Gundam Seed)</td>\n",
       "      <td>Lacus Clyne</td>\n",
       "      <td>Is it weapons that are the cause of all this f...</td>\n",
       "    </tr>\n",
       "    <tr>\n",
       "      <th>8756</th>\n",
       "      <td>(Mobile Suit Gundam Seed)</td>\n",
       "      <td>Kira Yamato</td>\n",
       "      <td>What can you protect, if your only weapon are ...</td>\n",
       "    </tr>\n",
       "    <tr>\n",
       "      <th>8757</th>\n",
       "      <td>(Code Geass: Lelouch of the Rebellion)</td>\n",
       "      <td>C.C.</td>\n",
       "      <td>Do you know why snow is white..? Because it fo...</td>\n",
       "    </tr>\n",
       "    <tr>\n",
       "      <th>8758</th>\n",
       "      <td>(Tengen Toppa Gurren Lagann)</td>\n",
       "      <td>Kamina</td>\n",
       "      <td>Don't believe in yourself. Believe in ME who b...</td>\n",
       "    </tr>\n",
       "    <tr>\n",
       "      <th>8759</th>\n",
       "      <td>(Full Metal Panic!)</td>\n",
       "      <td>Sousuke Sagara</td>\n",
       "      <td>I'm not a nerd, I'm a specialist.</td>\n",
       "    </tr>\n",
       "  </tbody>\n",
       "</table>\n",
       "<p>8760 rows × 3 columns</p>\n",
       "</div>"
      ],
      "text/plain": [
       "                                       Anime         Character  \\\n",
       "0                               (Soul Eater)        Soul Eater   \n",
       "1                                   (ReLIFE)      Ooga Kazuomi   \n",
       "2             (Psycho-Pass Extended Edition)  Makishima Shougo   \n",
       "3                                   (Naruto)              Pain   \n",
       "4                          (Detective Conan)         Ran Mouri   \n",
       "...                                      ...               ...   \n",
       "8755               (Mobile Suit Gundam Seed)       Lacus Clyne   \n",
       "8756               (Mobile Suit Gundam Seed)       Kira Yamato   \n",
       "8757  (Code Geass: Lelouch of the Rebellion)              C.C.   \n",
       "8758            (Tengen Toppa Gurren Lagann)            Kamina   \n",
       "8759                     (Full Metal Panic!)    Sousuke Sagara   \n",
       "\n",
       "                                                  Quote  \n",
       "0     In the end the shape and form don't matter at ...  \n",
       "1     I'm still a man too, I wanted to look calm and...  \n",
       "2     Clausewitz, he pointed out that no matter how ...  \n",
       "3     Because of the existence of love - sacrifice i...  \n",
       "4     Courage is a word of justice. It means the qua...  \n",
       "...                                                 ...  \n",
       "8755  Is it weapons that are the cause of all this f...  \n",
       "8756  What can you protect, if your only weapon are ...  \n",
       "8757  Do you know why snow is white..? Because it fo...  \n",
       "8758  Don't believe in yourself. Believe in ME who b...  \n",
       "8759                  I'm not a nerd, I'm a specialist.  \n",
       "\n",
       "[8760 rows x 3 columns]"
      ]
     },
     "execution_count": 21,
     "metadata": {},
     "output_type": "execute_result"
    }
   ],
   "source": [
    "data2.drop(['ID'],axis=1)"
   ]
  },
  {
   "cell_type": "markdown",
   "id": "860d8609",
   "metadata": {
    "papermill": {
     "duration": 0.022917,
     "end_time": "2022-09-16T10:59:54.603301",
     "exception": false,
     "start_time": "2022-09-16T10:59:54.580384",
     "status": "completed"
    },
    "tags": []
   },
   "source": [
    "# Cleaning the dataset "
   ]
  },
  {
   "cell_type": "code",
   "execution_count": 22,
   "id": "cfe82e92",
   "metadata": {
    "papermill": {
     "duration": 1.886913,
     "end_time": "2022-09-16T10:59:56.512614",
     "exception": false,
     "start_time": "2022-09-16T10:59:54.625701",
     "status": "completed"
    },
    "tags": []
   },
   "outputs": [
    {
     "name": "stderr",
     "output_type": "stream",
     "text": [
      "[nltk_data] Downloading package stopwords to C:\\Users\\GNANA SAI A\n",
      "[nltk_data]     S\\AppData\\Roaming\\nltk_data...\n",
      "[nltk_data]   Package stopwords is already up-to-date!\n",
      "[nltk_data] Downloading package wordnet to C:\\Users\\GNANA SAI A\n",
      "[nltk_data]     S\\AppData\\Roaming\\nltk_data...\n",
      "[nltk_data] Downloading package omw-1.4 to C:\\Users\\GNANA SAI A\n",
      "[nltk_data]     S\\AppData\\Roaming\\nltk_data...\n",
      "[nltk_data] Downloading package punkt to C:\\Users\\GNANA SAI A\n",
      "[nltk_data]     S\\AppData\\Roaming\\nltk_data...\n",
      "[nltk_data]   Unzipping tokenizers\\punkt.zip.\n"
     ]
    },
    {
     "name": "stdout",
     "output_type": "stream",
     "text": [
      "All the packages and libraries are load\n"
     ]
    }
   ],
   "source": [
    "import nltk\n",
    "import re\n",
    "from nltk.tokenize import word_tokenize\n",
    "from sklearn.preprocessing import MultiLabelBinarizer\n",
    "from sklearn.model_selection import train_test_split\n",
    "from sklearn.pipeline import make_pipeline , Pipeline\n",
    "from sklearn.feature_extraction.text import TfidfTransformer , CountVectorizer\n",
    "from sklearn.feature_extraction.text import TfidfVectorizer\n",
    "from sklearn.multiclass import OneVsRestClassifier\n",
    "from scipy import sparse\n",
    "nltk.download('stopwords')\n",
    "nltk.download('wordnet')\n",
    "nltk.download('omw-1.4')\n",
    "nltk.download('punkt')\n",
    "\n",
    "print(\"All the packages and libraries are load\")"
   ]
  },
  {
   "cell_type": "code",
   "execution_count": 23,
   "id": "2c1c766c",
   "metadata": {
    "papermill": {
     "duration": 0.038528,
     "end_time": "2022-09-16T10:59:56.575618",
     "exception": false,
     "start_time": "2022-09-16T10:59:56.537090",
     "status": "completed"
    },
    "tags": []
   },
   "outputs": [
    {
     "data": {
      "text/html": [
       "<div>\n",
       "<style scoped>\n",
       "    .dataframe tbody tr th:only-of-type {\n",
       "        vertical-align: middle;\n",
       "    }\n",
       "\n",
       "    .dataframe tbody tr th {\n",
       "        vertical-align: top;\n",
       "    }\n",
       "\n",
       "    .dataframe thead th {\n",
       "        text-align: right;\n",
       "    }\n",
       "</style>\n",
       "<table border=\"1\" class=\"dataframe\">\n",
       "  <thead>\n",
       "    <tr style=\"text-align: right;\">\n",
       "      <th></th>\n",
       "      <th>ID</th>\n",
       "      <th>Anime</th>\n",
       "      <th>Character</th>\n",
       "      <th>Quote</th>\n",
       "    </tr>\n",
       "  </thead>\n",
       "  <tbody>\n",
       "    <tr>\n",
       "      <th>0</th>\n",
       "      <td>0</td>\n",
       "      <td>(Soul Eater)</td>\n",
       "      <td>Soul Eater</td>\n",
       "      <td>In the end the shape and form don't matter at ...</td>\n",
       "    </tr>\n",
       "    <tr>\n",
       "      <th>1</th>\n",
       "      <td>1</td>\n",
       "      <td>(ReLIFE)</td>\n",
       "      <td>Ooga Kazuomi</td>\n",
       "      <td>I'm still a man too, I wanted to look calm and...</td>\n",
       "    </tr>\n",
       "    <tr>\n",
       "      <th>2</th>\n",
       "      <td>2</td>\n",
       "      <td>(Psycho-Pass Extended Edition)</td>\n",
       "      <td>Makishima Shougo</td>\n",
       "      <td>Clausewitz, he pointed out that no matter how ...</td>\n",
       "    </tr>\n",
       "    <tr>\n",
       "      <th>3</th>\n",
       "      <td>3</td>\n",
       "      <td>(Naruto)</td>\n",
       "      <td>Pain</td>\n",
       "      <td>Because of the existence of love - sacrifice i...</td>\n",
       "    </tr>\n",
       "    <tr>\n",
       "      <th>4</th>\n",
       "      <td>4</td>\n",
       "      <td>(Detective Conan)</td>\n",
       "      <td>Ran Mouri</td>\n",
       "      <td>Courage is a word of justice. It means the qua...</td>\n",
       "    </tr>\n",
       "  </tbody>\n",
       "</table>\n",
       "</div>"
      ],
      "text/plain": [
       "  ID                           Anime         Character  \\\n",
       "0  0                    (Soul Eater)        Soul Eater   \n",
       "1  1                        (ReLIFE)      Ooga Kazuomi   \n",
       "2  2  (Psycho-Pass Extended Edition)  Makishima Shougo   \n",
       "3  3                        (Naruto)              Pain   \n",
       "4  4               (Detective Conan)         Ran Mouri   \n",
       "\n",
       "                                               Quote  \n",
       "0  In the end the shape and form don't matter at ...  \n",
       "1  I'm still a man too, I wanted to look calm and...  \n",
       "2  Clausewitz, he pointed out that no matter how ...  \n",
       "3  Because of the existence of love - sacrifice i...  \n",
       "4  Courage is a word of justice. It means the qua...  "
      ]
     },
     "execution_count": 23,
     "metadata": {},
     "output_type": "execute_result"
    }
   ],
   "source": [
    "data2.head()"
   ]
  },
  {
   "cell_type": "code",
   "execution_count": 24,
   "id": "69394564",
   "metadata": {
    "papermill": {
     "duration": 0.040319,
     "end_time": "2022-09-16T10:59:56.639191",
     "exception": false,
     "start_time": "2022-09-16T10:59:56.598872",
     "status": "completed"
    },
    "tags": []
   },
   "outputs": [
    {
     "name": "stdout",
     "output_type": "stream",
     "text": [
      "<class 'pandas.core.frame.DataFrame'>\n",
      "RangeIndex: 8760 entries, 0 to 8759\n",
      "Data columns (total 4 columns):\n",
      " #   Column     Non-Null Count  Dtype \n",
      "---  ------     --------------  ----- \n",
      " 0   ID         8494 non-null   object\n",
      " 1   Anime      8436 non-null   object\n",
      " 2   Character  8366 non-null   object\n",
      " 3   Quote      8356 non-null   object\n",
      "dtypes: object(4)\n",
      "memory usage: 273.9+ KB\n"
     ]
    }
   ],
   "source": [
    "data2.info()"
   ]
  },
  {
   "cell_type": "code",
   "execution_count": 25,
   "id": "dc0b99dc",
   "metadata": {
    "papermill": {
     "duration": 0.036666,
     "end_time": "2022-09-16T10:59:56.700399",
     "exception": false,
     "start_time": "2022-09-16T10:59:56.663733",
     "status": "completed"
    },
    "tags": []
   },
   "outputs": [],
   "source": [
    "data2['Quote'] = data2['Quote'].astype('string')"
   ]
  },
  {
   "cell_type": "code",
   "execution_count": 26,
   "id": "987b213e",
   "metadata": {
    "papermill": {
     "duration": 0.033906,
     "end_time": "2022-09-16T10:59:56.760540",
     "exception": false,
     "start_time": "2022-09-16T10:59:56.726634",
     "status": "completed"
    },
    "tags": []
   },
   "outputs": [],
   "source": [
    "data2['Anime'] = data2['Anime'].astype('string')"
   ]
  },
  {
   "cell_type": "code",
   "execution_count": 27,
   "id": "0632402b",
   "metadata": {
    "papermill": {
     "duration": 0.033458,
     "end_time": "2022-09-16T10:59:56.817107",
     "exception": false,
     "start_time": "2022-09-16T10:59:56.783649",
     "status": "completed"
    },
    "tags": []
   },
   "outputs": [],
   "source": [
    "data2['Character'] = data2['Character'].astype('string')"
   ]
  },
  {
   "cell_type": "code",
   "execution_count": 28,
   "id": "1a33335d",
   "metadata": {
    "papermill": {
     "duration": 0.041731,
     "end_time": "2022-09-16T10:59:56.882798",
     "exception": false,
     "start_time": "2022-09-16T10:59:56.841067",
     "status": "completed"
    },
    "tags": []
   },
   "outputs": [
    {
     "name": "stdout",
     "output_type": "stream",
     "text": [
      "<class 'pandas.core.frame.DataFrame'>\n",
      "RangeIndex: 8760 entries, 0 to 8759\n",
      "Data columns (total 4 columns):\n",
      " #   Column     Non-Null Count  Dtype \n",
      "---  ------     --------------  ----- \n",
      " 0   ID         8494 non-null   object\n",
      " 1   Anime      8436 non-null   string\n",
      " 2   Character  8366 non-null   string\n",
      " 3   Quote      8356 non-null   string\n",
      "dtypes: object(1), string(3)\n",
      "memory usage: 273.9+ KB\n"
     ]
    }
   ],
   "source": [
    "data2.info()"
   ]
  },
  {
   "cell_type": "code",
   "execution_count": 29,
   "id": "3554ec64",
   "metadata": {
    "papermill": {
     "duration": 0.037527,
     "end_time": "2022-09-16T10:59:56.945381",
     "exception": false,
     "start_time": "2022-09-16T10:59:56.907854",
     "status": "completed"
    },
    "tags": []
   },
   "outputs": [
    {
     "data": {
      "text/plain": [
       "ID           3.036530\n",
       "Anime        3.698630\n",
       "Character    4.497717\n",
       "Quote        4.611872\n",
       "dtype: float64"
      ]
     },
     "execution_count": 29,
     "metadata": {},
     "output_type": "execute_result"
    }
   ],
   "source": [
    "data2.isnull().mean()*100"
   ]
  },
  {
   "cell_type": "code",
   "execution_count": 30,
   "id": "fc5b0aca",
   "metadata": {
    "papermill": {
     "duration": 0.037737,
     "end_time": "2022-09-16T10:59:57.006666",
     "exception": false,
     "start_time": "2022-09-16T10:59:56.968929",
     "status": "completed"
    },
    "tags": []
   },
   "outputs": [],
   "source": [
    " data3 = data2.dropna(axis=0,inplace=False)"
   ]
  },
  {
   "cell_type": "code",
   "execution_count": 31,
   "id": "8d64bbda",
   "metadata": {
    "papermill": {
     "duration": 0.035995,
     "end_time": "2022-09-16T10:59:57.066875",
     "exception": false,
     "start_time": "2022-09-16T10:59:57.030880",
     "status": "completed"
    },
    "tags": []
   },
   "outputs": [
    {
     "data": {
      "text/plain": [
       "ID           0\n",
       "Anime        0\n",
       "Character    0\n",
       "Quote        0\n",
       "dtype: int64"
      ]
     },
     "execution_count": 31,
     "metadata": {},
     "output_type": "execute_result"
    }
   ],
   "source": [
    "data3.isnull().sum()"
   ]
  },
  {
   "cell_type": "code",
   "execution_count": 32,
   "id": "da940479",
   "metadata": {
    "papermill": {
     "duration": 0.041449,
     "end_time": "2022-09-16T10:59:57.132922",
     "exception": false,
     "start_time": "2022-09-16T10:59:57.091473",
     "status": "completed"
    },
    "tags": []
   },
   "outputs": [
    {
     "name": "stdout",
     "output_type": "stream",
     "text": [
      "<class 'pandas.core.frame.DataFrame'>\n",
      "Int64Index: 8356 entries, 0 to 8759\n",
      "Data columns (total 4 columns):\n",
      " #   Column     Non-Null Count  Dtype \n",
      "---  ------     --------------  ----- \n",
      " 0   ID         8356 non-null   object\n",
      " 1   Anime      8356 non-null   string\n",
      " 2   Character  8356 non-null   string\n",
      " 3   Quote      8356 non-null   string\n",
      "dtypes: object(1), string(3)\n",
      "memory usage: 326.4+ KB\n"
     ]
    }
   ],
   "source": [
    "data3.info()"
   ]
  },
  {
   "cell_type": "markdown",
   "id": "89c64885",
   "metadata": {
    "papermill": {
     "duration": 0.026063,
     "end_time": "2022-09-16T10:59:57.183922",
     "exception": false,
     "start_time": "2022-09-16T10:59:57.157859",
     "status": "completed"
    },
    "tags": []
   },
   "source": [
    "# Preping the dataset"
   ]
  },
  {
   "cell_type": "code",
   "execution_count": 33,
   "id": "905e6e5f",
   "metadata": {
    "papermill": {
     "duration": 0.03836,
     "end_time": "2022-09-16T10:59:57.246048",
     "exception": false,
     "start_time": "2022-09-16T10:59:57.207688",
     "status": "completed"
    },
    "tags": []
   },
   "outputs": [],
   "source": [
    "data3['Quote'] = data3['Quote'].map(lambda x : x.lower()) "
   ]
  },
  {
   "cell_type": "code",
   "execution_count": 34,
   "id": "dd7fabeb",
   "metadata": {
    "papermill": {
     "duration": 0.034451,
     "end_time": "2022-09-16T10:59:57.303883",
     "exception": false,
     "start_time": "2022-09-16T10:59:57.269432",
     "status": "completed"
    },
    "tags": []
   },
   "outputs": [],
   "source": [
    "data3['Character'] = data3['Character'].map(lambda x : x.lower())"
   ]
  },
  {
   "cell_type": "code",
   "execution_count": 35,
   "id": "706ee648",
   "metadata": {
    "papermill": {
     "duration": 0.03422,
     "end_time": "2022-09-16T10:59:57.362005",
     "exception": false,
     "start_time": "2022-09-16T10:59:57.327785",
     "status": "completed"
    },
    "tags": []
   },
   "outputs": [],
   "source": [
    "data3['Anime'] = data3['Anime'].map(lambda x : x.lower())"
   ]
  },
  {
   "cell_type": "code",
   "execution_count": 36,
   "id": "a136e96c",
   "metadata": {
    "papermill": {
     "duration": 0.045638,
     "end_time": "2022-09-16T10:59:57.431507",
     "exception": false,
     "start_time": "2022-09-16T10:59:57.385869",
     "status": "completed"
    },
    "tags": []
   },
   "outputs": [
    {
     "data": {
      "text/html": [
       "<div>\n",
       "<style scoped>\n",
       "    .dataframe tbody tr th:only-of-type {\n",
       "        vertical-align: middle;\n",
       "    }\n",
       "\n",
       "    .dataframe tbody tr th {\n",
       "        vertical-align: top;\n",
       "    }\n",
       "\n",
       "    .dataframe thead th {\n",
       "        text-align: right;\n",
       "    }\n",
       "</style>\n",
       "<table border=\"1\" class=\"dataframe\">\n",
       "  <thead>\n",
       "    <tr style=\"text-align: right;\">\n",
       "      <th></th>\n",
       "      <th>ID</th>\n",
       "      <th>Anime</th>\n",
       "      <th>Character</th>\n",
       "      <th>Quote</th>\n",
       "    </tr>\n",
       "  </thead>\n",
       "  <tbody>\n",
       "    <tr>\n",
       "      <th>0</th>\n",
       "      <td>0</td>\n",
       "      <td>(soul eater)</td>\n",
       "      <td>soul eater</td>\n",
       "      <td>in the end the shape and form don't matter at ...</td>\n",
       "    </tr>\n",
       "    <tr>\n",
       "      <th>1</th>\n",
       "      <td>1</td>\n",
       "      <td>(relife)</td>\n",
       "      <td>ooga kazuomi</td>\n",
       "      <td>i'm still a man too, i wanted to look calm and...</td>\n",
       "    </tr>\n",
       "    <tr>\n",
       "      <th>2</th>\n",
       "      <td>2</td>\n",
       "      <td>(psycho-pass extended edition)</td>\n",
       "      <td>makishima shougo</td>\n",
       "      <td>clausewitz, he pointed out that no matter how ...</td>\n",
       "    </tr>\n",
       "    <tr>\n",
       "      <th>3</th>\n",
       "      <td>3</td>\n",
       "      <td>(naruto)</td>\n",
       "      <td>pain</td>\n",
       "      <td>because of the existence of love - sacrifice i...</td>\n",
       "    </tr>\n",
       "    <tr>\n",
       "      <th>4</th>\n",
       "      <td>4</td>\n",
       "      <td>(detective conan)</td>\n",
       "      <td>ran mouri</td>\n",
       "      <td>courage is a word of justice. it means the qua...</td>\n",
       "    </tr>\n",
       "  </tbody>\n",
       "</table>\n",
       "</div>"
      ],
      "text/plain": [
       "  ID                           Anime         Character  \\\n",
       "0  0                    (soul eater)        soul eater   \n",
       "1  1                        (relife)      ooga kazuomi   \n",
       "2  2  (psycho-pass extended edition)  makishima shougo   \n",
       "3  3                        (naruto)              pain   \n",
       "4  4               (detective conan)         ran mouri   \n",
       "\n",
       "                                               Quote  \n",
       "0  in the end the shape and form don't matter at ...  \n",
       "1  i'm still a man too, i wanted to look calm and...  \n",
       "2  clausewitz, he pointed out that no matter how ...  \n",
       "3  because of the existence of love - sacrifice i...  \n",
       "4  courage is a word of justice. it means the qua...  "
      ]
     },
     "execution_count": 36,
     "metadata": {},
     "output_type": "execute_result"
    }
   ],
   "source": [
    "data3.head()"
   ]
  },
  {
   "cell_type": "code",
   "execution_count": 37,
   "id": "5ae2d9ab",
   "metadata": {
    "papermill": {
     "duration": 0.033572,
     "end_time": "2022-09-16T10:59:57.489043",
     "exception": false,
     "start_time": "2022-09-16T10:59:57.455471",
     "status": "completed"
    },
    "tags": []
   },
   "outputs": [],
   "source": [
    "data4 = data3.drop('ID',axis=1)"
   ]
  },
  {
   "cell_type": "code",
   "execution_count": 38,
   "id": "8e3db3f0",
   "metadata": {
    "papermill": {
     "duration": 0.036997,
     "end_time": "2022-09-16T10:59:57.549680",
     "exception": false,
     "start_time": "2022-09-16T10:59:57.512683",
     "status": "completed"
    },
    "tags": []
   },
   "outputs": [
    {
     "data": {
      "text/html": [
       "<div>\n",
       "<style scoped>\n",
       "    .dataframe tbody tr th:only-of-type {\n",
       "        vertical-align: middle;\n",
       "    }\n",
       "\n",
       "    .dataframe tbody tr th {\n",
       "        vertical-align: top;\n",
       "    }\n",
       "\n",
       "    .dataframe thead th {\n",
       "        text-align: right;\n",
       "    }\n",
       "</style>\n",
       "<table border=\"1\" class=\"dataframe\">\n",
       "  <thead>\n",
       "    <tr style=\"text-align: right;\">\n",
       "      <th></th>\n",
       "      <th>Anime</th>\n",
       "      <th>Character</th>\n",
       "      <th>Quote</th>\n",
       "    </tr>\n",
       "  </thead>\n",
       "  <tbody>\n",
       "    <tr>\n",
       "      <th>0</th>\n",
       "      <td>(soul eater)</td>\n",
       "      <td>soul eater</td>\n",
       "      <td>in the end the shape and form don't matter at ...</td>\n",
       "    </tr>\n",
       "    <tr>\n",
       "      <th>1</th>\n",
       "      <td>(relife)</td>\n",
       "      <td>ooga kazuomi</td>\n",
       "      <td>i'm still a man too, i wanted to look calm and...</td>\n",
       "    </tr>\n",
       "    <tr>\n",
       "      <th>2</th>\n",
       "      <td>(psycho-pass extended edition)</td>\n",
       "      <td>makishima shougo</td>\n",
       "      <td>clausewitz, he pointed out that no matter how ...</td>\n",
       "    </tr>\n",
       "    <tr>\n",
       "      <th>3</th>\n",
       "      <td>(naruto)</td>\n",
       "      <td>pain</td>\n",
       "      <td>because of the existence of love - sacrifice i...</td>\n",
       "    </tr>\n",
       "    <tr>\n",
       "      <th>4</th>\n",
       "      <td>(detective conan)</td>\n",
       "      <td>ran mouri</td>\n",
       "      <td>courage is a word of justice. it means the qua...</td>\n",
       "    </tr>\n",
       "  </tbody>\n",
       "</table>\n",
       "</div>"
      ],
      "text/plain": [
       "                            Anime         Character  \\\n",
       "0                    (soul eater)        soul eater   \n",
       "1                        (relife)      ooga kazuomi   \n",
       "2  (psycho-pass extended edition)  makishima shougo   \n",
       "3                        (naruto)              pain   \n",
       "4               (detective conan)         ran mouri   \n",
       "\n",
       "                                               Quote  \n",
       "0  in the end the shape and form don't matter at ...  \n",
       "1  i'm still a man too, i wanted to look calm and...  \n",
       "2  clausewitz, he pointed out that no matter how ...  \n",
       "3  because of the existence of love - sacrifice i...  \n",
       "4  courage is a word of justice. it means the qua...  "
      ]
     },
     "execution_count": 38,
     "metadata": {},
     "output_type": "execute_result"
    }
   ],
   "source": [
    "data4.head()"
   ]
  },
  {
   "cell_type": "markdown",
   "id": "26689c29",
   "metadata": {
    "papermill": {
     "duration": 0.025728,
     "end_time": "2022-09-16T10:59:57.599922",
     "exception": false,
     "start_time": "2022-09-16T10:59:57.574194",
     "status": "completed"
    },
    "tags": []
   },
   "source": [
    "# Merging the dataset into one dataframe\n",
    "\n",
    "Though the other dataset is kind of irrelevant because of the smaller size of rows and columns available in it but still we will going to consider it and try to merge it in this dataframe before making it the final one."
   ]
  },
  {
   "cell_type": "code",
   "execution_count": 39,
   "id": "4977ace7",
   "metadata": {
    "papermill": {
     "duration": 0.037317,
     "end_time": "2022-09-16T10:59:57.661272",
     "exception": false,
     "start_time": "2022-09-16T10:59:57.623955",
     "status": "completed"
    },
    "tags": []
   },
   "outputs": [
    {
     "data": {
      "text/html": [
       "<div>\n",
       "<style scoped>\n",
       "    .dataframe tbody tr th:only-of-type {\n",
       "        vertical-align: middle;\n",
       "    }\n",
       "\n",
       "    .dataframe tbody tr th {\n",
       "        vertical-align: top;\n",
       "    }\n",
       "\n",
       "    .dataframe thead th {\n",
       "        text-align: right;\n",
       "    }\n",
       "</style>\n",
       "<table border=\"1\" class=\"dataframe\">\n",
       "  <thead>\n",
       "    <tr style=\"text-align: right;\">\n",
       "      <th></th>\n",
       "      <th>Anime</th>\n",
       "      <th>Character</th>\n",
       "      <th>Quote</th>\n",
       "    </tr>\n",
       "  </thead>\n",
       "  <tbody>\n",
       "    <tr>\n",
       "      <th>0</th>\n",
       "      <td>(soul eater)</td>\n",
       "      <td>soul eater</td>\n",
       "      <td>in the end the shape and form don't matter at ...</td>\n",
       "    </tr>\n",
       "    <tr>\n",
       "      <th>1</th>\n",
       "      <td>(relife)</td>\n",
       "      <td>ooga kazuomi</td>\n",
       "      <td>i'm still a man too, i wanted to look calm and...</td>\n",
       "    </tr>\n",
       "    <tr>\n",
       "      <th>2</th>\n",
       "      <td>(psycho-pass extended edition)</td>\n",
       "      <td>makishima shougo</td>\n",
       "      <td>clausewitz, he pointed out that no matter how ...</td>\n",
       "    </tr>\n",
       "    <tr>\n",
       "      <th>3</th>\n",
       "      <td>(naruto)</td>\n",
       "      <td>pain</td>\n",
       "      <td>because of the existence of love - sacrifice i...</td>\n",
       "    </tr>\n",
       "    <tr>\n",
       "      <th>4</th>\n",
       "      <td>(detective conan)</td>\n",
       "      <td>ran mouri</td>\n",
       "      <td>courage is a word of justice. it means the qua...</td>\n",
       "    </tr>\n",
       "  </tbody>\n",
       "</table>\n",
       "</div>"
      ],
      "text/plain": [
       "                            Anime         Character  \\\n",
       "0                    (soul eater)        soul eater   \n",
       "1                        (relife)      ooga kazuomi   \n",
       "2  (psycho-pass extended edition)  makishima shougo   \n",
       "3                        (naruto)              pain   \n",
       "4               (detective conan)         ran mouri   \n",
       "\n",
       "                                               Quote  \n",
       "0  in the end the shape and form don't matter at ...  \n",
       "1  i'm still a man too, i wanted to look calm and...  \n",
       "2  clausewitz, he pointed out that no matter how ...  \n",
       "3  because of the existence of love - sacrifice i...  \n",
       "4  courage is a word of justice. it means the qua...  "
      ]
     },
     "execution_count": 39,
     "metadata": {},
     "output_type": "execute_result"
    }
   ],
   "source": [
    "data4.head()"
   ]
  },
  {
   "cell_type": "code",
   "execution_count": 40,
   "id": "9b47aaa0",
   "metadata": {
    "papermill": {
     "duration": 0.036922,
     "end_time": "2022-09-16T10:59:57.722032",
     "exception": false,
     "start_time": "2022-09-16T10:59:57.685110",
     "status": "completed"
    },
    "tags": []
   },
   "outputs": [
    {
     "data": {
      "text/html": [
       "<div>\n",
       "<style scoped>\n",
       "    .dataframe tbody tr th:only-of-type {\n",
       "        vertical-align: middle;\n",
       "    }\n",
       "\n",
       "    .dataframe tbody tr th {\n",
       "        vertical-align: top;\n",
       "    }\n",
       "\n",
       "    .dataframe thead th {\n",
       "        text-align: right;\n",
       "    }\n",
       "</style>\n",
       "<table border=\"1\" class=\"dataframe\">\n",
       "  <thead>\n",
       "    <tr style=\"text-align: right;\">\n",
       "      <th></th>\n",
       "      <th>Quote</th>\n",
       "      <th>Character</th>\n",
       "      <th>Anime</th>\n",
       "    </tr>\n",
       "  </thead>\n",
       "  <tbody>\n",
       "    <tr>\n",
       "      <th>0</th>\n",
       "      <td>People’s lives don’t end when they die, it end...</td>\n",
       "      <td>Itachi Uchiha</td>\n",
       "      <td>Naruto</td>\n",
       "    </tr>\n",
       "    <tr>\n",
       "      <th>1</th>\n",
       "      <td>If you don’t take risks, you can’t create a fu...</td>\n",
       "      <td>Monkey D Luffy</td>\n",
       "      <td>One Piece</td>\n",
       "    </tr>\n",
       "    <tr>\n",
       "      <th>2</th>\n",
       "      <td>If you don’t like your destiny, don’t accept it.</td>\n",
       "      <td>Naruto Uzumaki</td>\n",
       "      <td>Naruto</td>\n",
       "    </tr>\n",
       "    <tr>\n",
       "      <th>3</th>\n",
       "      <td>When you give up, that’s when the game ends.</td>\n",
       "      <td>Mitsuyoshi Anzai</td>\n",
       "      <td>Slam Dunk</td>\n",
       "    </tr>\n",
       "    <tr>\n",
       "      <th>4</th>\n",
       "      <td>All we can do is live until the day we die. Co...</td>\n",
       "      <td>Deneil Young</td>\n",
       "      <td>Uchuu Kyoudai or Space Brothers</td>\n",
       "    </tr>\n",
       "  </tbody>\n",
       "</table>\n",
       "</div>"
      ],
      "text/plain": [
       "                                               Quote         Character  \\\n",
       "0  People’s lives don’t end when they die, it end...     Itachi Uchiha   \n",
       "1  If you don’t take risks, you can’t create a fu...    Monkey D Luffy   \n",
       "2   If you don’t like your destiny, don’t accept it.    Naruto Uzumaki   \n",
       "3       When you give up, that’s when the game ends.  Mitsuyoshi Anzai   \n",
       "4  All we can do is live until the day we die. Co...      Deneil Young   \n",
       "\n",
       "                             Anime  \n",
       "0                           Naruto  \n",
       "1                        One Piece  \n",
       "2                           Naruto  \n",
       "3                        Slam Dunk  \n",
       "4  Uchuu Kyoudai or Space Brothers  "
      ]
     },
     "execution_count": 40,
     "metadata": {},
     "output_type": "execute_result"
    }
   ],
   "source": [
    "data.head()"
   ]
  },
  {
   "cell_type": "code",
   "execution_count": 41,
   "id": "c8f8b324",
   "metadata": {
    "papermill": {
     "duration": 0.039061,
     "end_time": "2022-09-16T10:59:57.785386",
     "exception": false,
     "start_time": "2022-09-16T10:59:57.746325",
     "status": "completed"
    },
    "tags": []
   },
   "outputs": [
    {
     "name": "stdout",
     "output_type": "stream",
     "text": [
      "<class 'pandas.core.frame.DataFrame'>\n",
      "RangeIndex: 121 entries, 0 to 120\n",
      "Data columns (total 3 columns):\n",
      " #   Column     Non-Null Count  Dtype \n",
      "---  ------     --------------  ----- \n",
      " 0   Quote      121 non-null    object\n",
      " 1   Character  121 non-null    object\n",
      " 2   Anime      120 non-null    object\n",
      "dtypes: object(3)\n",
      "memory usage: 3.0+ KB\n"
     ]
    }
   ],
   "source": [
    "data.info()"
   ]
  },
  {
   "cell_type": "code",
   "execution_count": 42,
   "id": "1eb5441a",
   "metadata": {
    "papermill": {
     "duration": 0.034692,
     "end_time": "2022-09-16T10:59:57.845842",
     "exception": false,
     "start_time": "2022-09-16T10:59:57.811150",
     "status": "completed"
    },
    "tags": []
   },
   "outputs": [],
   "source": [
    "data['Quote'] = data['Quote'].astype('string')\n",
    "data['Character'] = data['Character'].astype('string')\n",
    "data['Anime'] = data['Anime'].astype('string')"
   ]
  },
  {
   "cell_type": "code",
   "execution_count": 43,
   "id": "d307a57d",
   "metadata": {
    "papermill": {
     "duration": 0.040758,
     "end_time": "2022-09-16T10:59:57.911021",
     "exception": false,
     "start_time": "2022-09-16T10:59:57.870263",
     "status": "completed"
    },
    "tags": []
   },
   "outputs": [
    {
     "name": "stdout",
     "output_type": "stream",
     "text": [
      "<class 'pandas.core.frame.DataFrame'>\n",
      "RangeIndex: 121 entries, 0 to 120\n",
      "Data columns (total 3 columns):\n",
      " #   Column     Non-Null Count  Dtype \n",
      "---  ------     --------------  ----- \n",
      " 0   Quote      121 non-null    string\n",
      " 1   Character  121 non-null    string\n",
      " 2   Anime      120 non-null    string\n",
      "dtypes: string(3)\n",
      "memory usage: 3.0 KB\n"
     ]
    }
   ],
   "source": [
    "data.info()"
   ]
  },
  {
   "cell_type": "code",
   "execution_count": 44,
   "id": "b8ff408d",
   "metadata": {
    "papermill": {
     "duration": 0.033869,
     "end_time": "2022-09-16T10:59:57.971027",
     "exception": false,
     "start_time": "2022-09-16T10:59:57.937158",
     "status": "completed"
    },
    "tags": []
   },
   "outputs": [],
   "source": [
    "frames = [data,data4] "
   ]
  },
  {
   "cell_type": "code",
   "execution_count": 104,
   "id": "34aac4ab",
   "metadata": {
    "papermill": {
     "duration": 0.037186,
     "end_time": "2022-09-16T10:59:58.033279",
     "exception": false,
     "start_time": "2022-09-16T10:59:57.996093",
     "status": "completed"
    },
    "tags": []
   },
   "outputs": [],
   "source": [
    "new_data = pd.concat(frames)"
   ]
  },
  {
   "cell_type": "code",
   "execution_count": 46,
   "id": "c660f5e1",
   "metadata": {
    "papermill": {
     "duration": 0.04084,
     "end_time": "2022-09-16T10:59:58.098374",
     "exception": false,
     "start_time": "2022-09-16T10:59:58.057534",
     "status": "completed"
    },
    "tags": []
   },
   "outputs": [
    {
     "data": {
      "text/html": [
       "<div>\n",
       "<style scoped>\n",
       "    .dataframe tbody tr th:only-of-type {\n",
       "        vertical-align: middle;\n",
       "    }\n",
       "\n",
       "    .dataframe tbody tr th {\n",
       "        vertical-align: top;\n",
       "    }\n",
       "\n",
       "    .dataframe thead th {\n",
       "        text-align: right;\n",
       "    }\n",
       "</style>\n",
       "<table border=\"1\" class=\"dataframe\">\n",
       "  <thead>\n",
       "    <tr style=\"text-align: right;\">\n",
       "      <th></th>\n",
       "      <th>Quote</th>\n",
       "      <th>Character</th>\n",
       "      <th>Anime</th>\n",
       "    </tr>\n",
       "  </thead>\n",
       "  <tbody>\n",
       "    <tr>\n",
       "      <th>0</th>\n",
       "      <td>People’s lives don’t end when they die, it end...</td>\n",
       "      <td>Itachi Uchiha</td>\n",
       "      <td>Naruto</td>\n",
       "    </tr>\n",
       "    <tr>\n",
       "      <th>1</th>\n",
       "      <td>If you don’t take risks, you can’t create a fu...</td>\n",
       "      <td>Monkey D Luffy</td>\n",
       "      <td>One Piece</td>\n",
       "    </tr>\n",
       "    <tr>\n",
       "      <th>2</th>\n",
       "      <td>If you don’t like your destiny, don’t accept it.</td>\n",
       "      <td>Naruto Uzumaki</td>\n",
       "      <td>Naruto</td>\n",
       "    </tr>\n",
       "    <tr>\n",
       "      <th>3</th>\n",
       "      <td>When you give up, that’s when the game ends.</td>\n",
       "      <td>Mitsuyoshi Anzai</td>\n",
       "      <td>Slam Dunk</td>\n",
       "    </tr>\n",
       "    <tr>\n",
       "      <th>4</th>\n",
       "      <td>All we can do is live until the day we die. Co...</td>\n",
       "      <td>Deneil Young</td>\n",
       "      <td>Uchuu Kyoudai or Space Brothers</td>\n",
       "    </tr>\n",
       "  </tbody>\n",
       "</table>\n",
       "</div>"
      ],
      "text/plain": [
       "                                               Quote         Character  \\\n",
       "0  People’s lives don’t end when they die, it end...     Itachi Uchiha   \n",
       "1  If you don’t take risks, you can’t create a fu...    Monkey D Luffy   \n",
       "2   If you don’t like your destiny, don’t accept it.    Naruto Uzumaki   \n",
       "3       When you give up, that’s when the game ends.  Mitsuyoshi Anzai   \n",
       "4  All we can do is live until the day we die. Co...      Deneil Young   \n",
       "\n",
       "                             Anime  \n",
       "0                           Naruto  \n",
       "1                        One Piece  \n",
       "2                           Naruto  \n",
       "3                        Slam Dunk  \n",
       "4  Uchuu Kyoudai or Space Brothers  "
      ]
     },
     "execution_count": 46,
     "metadata": {},
     "output_type": "execute_result"
    }
   ],
   "source": [
    "new_data.head()"
   ]
  },
  {
   "cell_type": "code",
   "execution_count": 47,
   "id": "303eb04d",
   "metadata": {
    "papermill": {
     "duration": 0.037436,
     "end_time": "2022-09-16T10:59:58.160457",
     "exception": false,
     "start_time": "2022-09-16T10:59:58.123021",
     "status": "completed"
    },
    "tags": []
   },
   "outputs": [
    {
     "data": {
      "text/plain": [
       "Quote        0\n",
       "Character    0\n",
       "Anime        1\n",
       "dtype: int64"
      ]
     },
     "execution_count": 47,
     "metadata": {},
     "output_type": "execute_result"
    }
   ],
   "source": [
    "new_data.isnull().sum()"
   ]
  },
  {
   "cell_type": "code",
   "execution_count": 48,
   "id": "07f6577e",
   "metadata": {
    "papermill": {
     "duration": 0.037981,
     "end_time": "2022-09-16T10:59:58.223104",
     "exception": false,
     "start_time": "2022-09-16T10:59:58.185123",
     "status": "completed"
    },
    "tags": []
   },
   "outputs": [],
   "source": [
    "new_data.dropna(axis=0,inplace=True)"
   ]
  },
  {
   "cell_type": "code",
   "execution_count": 49,
   "id": "928543c5",
   "metadata": {
    "papermill": {
     "duration": 0.035365,
     "end_time": "2022-09-16T10:59:58.282841",
     "exception": false,
     "start_time": "2022-09-16T10:59:58.247476",
     "status": "completed"
    },
    "tags": []
   },
   "outputs": [
    {
     "data": {
      "text/plain": [
       "(8476, 3)"
      ]
     },
     "execution_count": 49,
     "metadata": {},
     "output_type": "execute_result"
    }
   ],
   "source": [
    "new_data.shape #we have successfully merged the two dataset into one , and now will be starting off with the model building and data preping."
   ]
  },
  {
   "cell_type": "code",
   "execution_count": 50,
   "id": "1ab9ac49",
   "metadata": {
    "papermill": {
     "duration": 0.04263,
     "end_time": "2022-09-16T10:59:58.349693",
     "exception": false,
     "start_time": "2022-09-16T10:59:58.307063",
     "status": "completed"
    },
    "tags": []
   },
   "outputs": [],
   "source": [
    "new_data['Anime'] = new_data['Anime'].map(lambda x : x.lower())\n",
    "new_data['Character'] = new_data['Character'].map(lambda x : x.lower())\n",
    "new_data['Quote'] = new_data['Quote'].map(lambda x : x.lower())"
   ]
  },
  {
   "cell_type": "code",
   "execution_count": 51,
   "id": "373da2a9",
   "metadata": {
    "papermill": {
     "duration": 0.038073,
     "end_time": "2022-09-16T10:59:58.412371",
     "exception": false,
     "start_time": "2022-09-16T10:59:58.374298",
     "status": "completed"
    },
    "tags": []
   },
   "outputs": [
    {
     "data": {
      "text/html": [
       "<div>\n",
       "<style scoped>\n",
       "    .dataframe tbody tr th:only-of-type {\n",
       "        vertical-align: middle;\n",
       "    }\n",
       "\n",
       "    .dataframe tbody tr th {\n",
       "        vertical-align: top;\n",
       "    }\n",
       "\n",
       "    .dataframe thead th {\n",
       "        text-align: right;\n",
       "    }\n",
       "</style>\n",
       "<table border=\"1\" class=\"dataframe\">\n",
       "  <thead>\n",
       "    <tr style=\"text-align: right;\">\n",
       "      <th></th>\n",
       "      <th>Quote</th>\n",
       "      <th>Character</th>\n",
       "      <th>Anime</th>\n",
       "    </tr>\n",
       "  </thead>\n",
       "  <tbody>\n",
       "    <tr>\n",
       "      <th>0</th>\n",
       "      <td>people’s lives don’t end when they die, it end...</td>\n",
       "      <td>itachi uchiha</td>\n",
       "      <td>naruto</td>\n",
       "    </tr>\n",
       "    <tr>\n",
       "      <th>1</th>\n",
       "      <td>if you don’t take risks, you can’t create a fu...</td>\n",
       "      <td>monkey d luffy</td>\n",
       "      <td>one piece</td>\n",
       "    </tr>\n",
       "    <tr>\n",
       "      <th>2</th>\n",
       "      <td>if you don’t like your destiny, don’t accept it.</td>\n",
       "      <td>naruto uzumaki</td>\n",
       "      <td>naruto</td>\n",
       "    </tr>\n",
       "    <tr>\n",
       "      <th>3</th>\n",
       "      <td>when you give up, that’s when the game ends.</td>\n",
       "      <td>mitsuyoshi anzai</td>\n",
       "      <td>slam dunk</td>\n",
       "    </tr>\n",
       "    <tr>\n",
       "      <th>4</th>\n",
       "      <td>all we can do is live until the day we die. co...</td>\n",
       "      <td>deneil young</td>\n",
       "      <td>uchuu kyoudai or space brothers</td>\n",
       "    </tr>\n",
       "  </tbody>\n",
       "</table>\n",
       "</div>"
      ],
      "text/plain": [
       "                                               Quote         Character  \\\n",
       "0  people’s lives don’t end when they die, it end...     itachi uchiha   \n",
       "1  if you don’t take risks, you can’t create a fu...    monkey d luffy   \n",
       "2   if you don’t like your destiny, don’t accept it.    naruto uzumaki   \n",
       "3       when you give up, that’s when the game ends.  mitsuyoshi anzai   \n",
       "4  all we can do is live until the day we die. co...      deneil young   \n",
       "\n",
       "                             Anime  \n",
       "0                           naruto  \n",
       "1                        one piece  \n",
       "2                           naruto  \n",
       "3                        slam dunk  \n",
       "4  uchuu kyoudai or space brothers  "
      ]
     },
     "execution_count": 51,
     "metadata": {},
     "output_type": "execute_result"
    }
   ],
   "source": [
    "new_data.head()"
   ]
  },
  {
   "cell_type": "markdown",
   "id": "58e0423a",
   "metadata": {
    "papermill": {
     "duration": 0.025692,
     "end_time": "2022-09-16T10:59:58.464116",
     "exception": false,
     "start_time": "2022-09-16T10:59:58.438424",
     "status": "completed"
    },
    "tags": []
   },
   "source": [
    "# Implementing the pipeline to clean the text."
   ]
  },
  {
   "cell_type": "markdown",
   "id": "23c3772d",
   "metadata": {
    "papermill": {
     "duration": 0.024802,
     "end_time": "2022-09-16T10:59:58.513524",
     "exception": false,
     "start_time": "2022-09-16T10:59:58.488722",
     "status": "completed"
    },
    "tags": []
   },
   "source": [
    "#  **Removing Puntuations**"
   ]
  },
  {
   "cell_type": "code",
   "execution_count": 52,
   "id": "c6b391c3",
   "metadata": {
    "papermill": {
     "duration": 0.222848,
     "end_time": "2022-09-16T10:59:58.786000",
     "exception": false,
     "start_time": "2022-09-16T10:59:58.563152",
     "status": "completed"
    },
    "tags": []
   },
   "outputs": [],
   "source": [
    "new_data['Quote'] = new_data['Quote'].apply(lambda x: re.sub('[^a-zA-Z]', ' ', x)) #Removes numbers\n",
    "new_data['Quote'] = new_data['Quote'].apply(lambda x: re.sub('\\s+[a-zA-Z]\\s+', ' ', x)) # Removes single characters\n",
    "new_data['Quote'] = new_data['Quote'].apply(lambda x: re.sub('\\s+', ' ', x))"
   ]
  },
  {
   "cell_type": "markdown",
   "id": "cc01ac58",
   "metadata": {
    "papermill": {
     "duration": 0.02532,
     "end_time": "2022-09-16T10:59:58.836836",
     "exception": false,
     "start_time": "2022-09-16T10:59:58.811516",
     "status": "completed"
    },
    "tags": []
   },
   "source": [
    "# **Going with the tokenization**\n",
    "\n",
    "<pre>\n",
    "we will try to understand how many types of tokenization is done when the dataset if feeded into the model, it is very important that you should get his process right because tokens are the building blocks of Natural language processing.\n",
    "</pre>\n",
    "\n",
    "Tokenization is the process of breaking or seperating the text into the smaller units called the tokens.Because of which it can be characterised into 3 types which are -\n",
    "1. Words \n",
    "2. Character\n",
    "3. subwords\n",
    "\n",
    "*Tokenization is important because creating vocabulary is the ultimate goal of tokenization.*\n",
    "\n",
    "# Types of Tokenization\n",
    "\n",
    "* Word Tokenization is the most commonly used tokenization algorithm. It splits a piece of text into individual words based on a certain delimiter. Depending upon delimiters, different word-level tokens are formed. Pretrained Word Embeddings such as Word2Vec and GloVe comes under word tokenization.\n",
    "\n",
    "* Character Tokenization splits apiece of text into a set of characters. It overcomes the drawbacks we saw above about Word Tokenization.\n",
    "\n",
    "[If you want to know more about the topic definatily check out this link!](https://www.analyticsvidhya.com/blog/2020/05/what-is-tokenization-nlp/)"
   ]
  },
  {
   "cell_type": "code",
   "execution_count": null,
   "id": "38d18204-2120-4f84-bf32-3fcc21c19f3d",
   "metadata": {},
   "outputs": [],
   "source": []
  },
  {
   "cell_type": "code",
   "execution_count": 53,
   "id": "a2c1e63d",
   "metadata": {
    "papermill": {
     "duration": 2.94034,
     "end_time": "2022-09-16T11:00:01.802286",
     "exception": false,
     "start_time": "2022-09-16T10:59:58.861946",
     "status": "completed"
    },
    "tags": []
   },
   "outputs": [],
   "source": [
    "new_data['Quote'] = new_data['Quote'].apply(lambda x: word_tokenize(x))\n",
    "new_data['Character'] = new_data['Character'].apply(lambda x: word_tokenize(x))\n",
    "new_data['Anime'] = new_data['Anime'].apply(lambda x: word_tokenize(x))"
   ]
  },
  {
   "cell_type": "code",
   "execution_count": 54,
   "id": "42e743d9",
   "metadata": {
    "papermill": {
     "duration": 0.04289,
     "end_time": "2022-09-16T11:00:01.871251",
     "exception": false,
     "start_time": "2022-09-16T11:00:01.828361",
     "status": "completed"
    },
    "tags": []
   },
   "outputs": [
    {
     "data": {
      "text/html": [
       "<div>\n",
       "<style scoped>\n",
       "    .dataframe tbody tr th:only-of-type {\n",
       "        vertical-align: middle;\n",
       "    }\n",
       "\n",
       "    .dataframe tbody tr th {\n",
       "        vertical-align: top;\n",
       "    }\n",
       "\n",
       "    .dataframe thead th {\n",
       "        text-align: right;\n",
       "    }\n",
       "</style>\n",
       "<table border=\"1\" class=\"dataframe\">\n",
       "  <thead>\n",
       "    <tr style=\"text-align: right;\">\n",
       "      <th></th>\n",
       "      <th>Quote</th>\n",
       "      <th>Character</th>\n",
       "      <th>Anime</th>\n",
       "    </tr>\n",
       "  </thead>\n",
       "  <tbody>\n",
       "    <tr>\n",
       "      <th>0</th>\n",
       "      <td>[people, lives, don, end, when, they, die, it,...</td>\n",
       "      <td>[itachi, uchiha]</td>\n",
       "      <td>[naruto]</td>\n",
       "    </tr>\n",
       "    <tr>\n",
       "      <th>1</th>\n",
       "      <td>[if, you, don, take, risks, you, can, create, ...</td>\n",
       "      <td>[monkey, d, luffy]</td>\n",
       "      <td>[one, piece]</td>\n",
       "    </tr>\n",
       "    <tr>\n",
       "      <th>2</th>\n",
       "      <td>[if, you, don, like, your, destiny, don, accep...</td>\n",
       "      <td>[naruto, uzumaki]</td>\n",
       "      <td>[naruto]</td>\n",
       "    </tr>\n",
       "    <tr>\n",
       "      <th>3</th>\n",
       "      <td>[when, you, give, up, that, when, the, game, e...</td>\n",
       "      <td>[mitsuyoshi, anzai]</td>\n",
       "      <td>[slam, dunk]</td>\n",
       "    </tr>\n",
       "    <tr>\n",
       "      <th>4</th>\n",
       "      <td>[all, we, can, do, is, live, until, the, day, ...</td>\n",
       "      <td>[deneil, young]</td>\n",
       "      <td>[uchuu, kyoudai, or, space, brothers]</td>\n",
       "    </tr>\n",
       "  </tbody>\n",
       "</table>\n",
       "</div>"
      ],
      "text/plain": [
       "                                               Quote            Character  \\\n",
       "0  [people, lives, don, end, when, they, die, it,...     [itachi, uchiha]   \n",
       "1  [if, you, don, take, risks, you, can, create, ...   [monkey, d, luffy]   \n",
       "2  [if, you, don, like, your, destiny, don, accep...    [naruto, uzumaki]   \n",
       "3  [when, you, give, up, that, when, the, game, e...  [mitsuyoshi, anzai]   \n",
       "4  [all, we, can, do, is, live, until, the, day, ...      [deneil, young]   \n",
       "\n",
       "                                   Anime  \n",
       "0                               [naruto]  \n",
       "1                           [one, piece]  \n",
       "2                               [naruto]  \n",
       "3                           [slam, dunk]  \n",
       "4  [uchuu, kyoudai, or, space, brothers]  "
      ]
     },
     "execution_count": 54,
     "metadata": {},
     "output_type": "execute_result"
    }
   ],
   "source": [
    "new_data.head()"
   ]
  },
  {
   "cell_type": "markdown",
   "id": "beaba9ab",
   "metadata": {
    "papermill": {
     "duration": 0.02629,
     "end_time": "2022-09-16T11:00:01.923090",
     "exception": false,
     "start_time": "2022-09-16T11:00:01.896800",
     "status": "completed"
    },
    "tags": []
   },
   "source": [
    "# Removing Stopwords"
   ]
  },
  {
   "cell_type": "code",
   "execution_count": 55,
   "id": "b5c90407",
   "metadata": {
    "papermill": {
     "duration": 0.034634,
     "end_time": "2022-09-16T11:00:01.983059",
     "exception": false,
     "start_time": "2022-09-16T11:00:01.948425",
     "status": "completed"
    },
    "tags": []
   },
   "outputs": [],
   "source": [
    "stopwords = nltk.corpus.stopwords.words('english')"
   ]
  },
  {
   "cell_type": "code",
   "execution_count": 56,
   "id": "b7e57dce",
   "metadata": {
    "papermill": {
     "duration": 0.033534,
     "end_time": "2022-09-16T11:00:02.041889",
     "exception": false,
     "start_time": "2022-09-16T11:00:02.008355",
     "status": "completed"
    },
    "tags": []
   },
   "outputs": [],
   "source": [
    "def remove_stopwords(tokenized_list):\n",
    "    text=[word for word in tokenized_list if word not in stopwords]\n",
    "    return text"
   ]
  },
  {
   "cell_type": "code",
   "execution_count": 57,
   "id": "7eae1e1c",
   "metadata": {
    "papermill": {
     "duration": 0.519555,
     "end_time": "2022-09-16T11:00:02.586618",
     "exception": false,
     "start_time": "2022-09-16T11:00:02.067063",
     "status": "completed"
    },
    "tags": []
   },
   "outputs": [],
   "source": [
    "new_data['Quote'] = new_data['Quote'].apply(lambda x: remove_stopwords(x))"
   ]
  },
  {
   "cell_type": "code",
   "execution_count": 58,
   "id": "4b45af11",
   "metadata": {
    "papermill": {
     "duration": 0.046217,
     "end_time": "2022-09-16T11:00:02.659606",
     "exception": false,
     "start_time": "2022-09-16T11:00:02.613389",
     "status": "completed"
    },
    "tags": []
   },
   "outputs": [
    {
     "data": {
      "text/html": [
       "<div>\n",
       "<style scoped>\n",
       "    .dataframe tbody tr th:only-of-type {\n",
       "        vertical-align: middle;\n",
       "    }\n",
       "\n",
       "    .dataframe tbody tr th {\n",
       "        vertical-align: top;\n",
       "    }\n",
       "\n",
       "    .dataframe thead th {\n",
       "        text-align: right;\n",
       "    }\n",
       "</style>\n",
       "<table border=\"1\" class=\"dataframe\">\n",
       "  <thead>\n",
       "    <tr style=\"text-align: right;\">\n",
       "      <th></th>\n",
       "      <th>Quote</th>\n",
       "      <th>Character</th>\n",
       "      <th>Anime</th>\n",
       "    </tr>\n",
       "  </thead>\n",
       "  <tbody>\n",
       "    <tr>\n",
       "      <th>0</th>\n",
       "      <td>[people, lives, end, die, ends, lose, faith]</td>\n",
       "      <td>[itachi, uchiha]</td>\n",
       "      <td>[naruto]</td>\n",
       "    </tr>\n",
       "    <tr>\n",
       "      <th>1</th>\n",
       "      <td>[take, risks, create, future]</td>\n",
       "      <td>[monkey, d, luffy]</td>\n",
       "      <td>[one, piece]</td>\n",
       "    </tr>\n",
       "    <tr>\n",
       "      <th>2</th>\n",
       "      <td>[like, destiny, accept]</td>\n",
       "      <td>[naruto, uzumaki]</td>\n",
       "      <td>[naruto]</td>\n",
       "    </tr>\n",
       "    <tr>\n",
       "      <th>3</th>\n",
       "      <td>[give, game, ends]</td>\n",
       "      <td>[mitsuyoshi, anzai]</td>\n",
       "      <td>[slam, dunk]</td>\n",
       "    </tr>\n",
       "    <tr>\n",
       "      <th>4</th>\n",
       "      <td>[live, day, die, control, fly, free]</td>\n",
       "      <td>[deneil, young]</td>\n",
       "      <td>[uchuu, kyoudai, or, space, brothers]</td>\n",
       "    </tr>\n",
       "  </tbody>\n",
       "</table>\n",
       "</div>"
      ],
      "text/plain": [
       "                                          Quote            Character  \\\n",
       "0  [people, lives, end, die, ends, lose, faith]     [itachi, uchiha]   \n",
       "1                 [take, risks, create, future]   [monkey, d, luffy]   \n",
       "2                       [like, destiny, accept]    [naruto, uzumaki]   \n",
       "3                            [give, game, ends]  [mitsuyoshi, anzai]   \n",
       "4          [live, day, die, control, fly, free]      [deneil, young]   \n",
       "\n",
       "                                   Anime  \n",
       "0                               [naruto]  \n",
       "1                           [one, piece]  \n",
       "2                               [naruto]  \n",
       "3                           [slam, dunk]  \n",
       "4  [uchuu, kyoudai, or, space, brothers]  "
      ]
     },
     "execution_count": 58,
     "metadata": {},
     "output_type": "execute_result"
    }
   ],
   "source": [
    "new_data.head()"
   ]
  },
  {
   "cell_type": "markdown",
   "id": "092c65f6",
   "metadata": {
    "papermill": {
     "duration": 0.024859,
     "end_time": "2022-09-16T11:00:02.710919",
     "exception": false,
     "start_time": "2022-09-16T11:00:02.686060",
     "status": "completed"
    },
    "tags": []
   },
   "source": [
    "# Stemming "
   ]
  },
  {
   "cell_type": "code",
   "execution_count": 59,
   "id": "ab3534f3",
   "metadata": {
    "papermill": {
     "duration": 0.033283,
     "end_time": "2022-09-16T11:00:02.769015",
     "exception": false,
     "start_time": "2022-09-16T11:00:02.735732",
     "status": "completed"
    },
    "tags": []
   },
   "outputs": [],
   "source": [
    "from nltk.stem.snowball import SnowballStemmer\n",
    "\n",
    "stemming_eng = SnowballStemmer(\"english\")"
   ]
  },
  {
   "cell_type": "code",
   "execution_count": 60,
   "id": "34eeb702",
   "metadata": {
    "papermill": {
     "duration": 0.033326,
     "end_time": "2022-09-16T11:00:02.826744",
     "exception": false,
     "start_time": "2022-09-16T11:00:02.793418",
     "status": "completed"
    },
    "tags": []
   },
   "outputs": [],
   "source": [
    "def stemming(tokenized_text):\n",
    "    text = [stemming_eng.stem(word) for word in tokenized_text]\n",
    "    return text"
   ]
  },
  {
   "cell_type": "code",
   "execution_count": 61,
   "id": "e3df3474",
   "metadata": {
    "papermill": {
     "duration": 0.033459,
     "end_time": "2022-09-16T11:00:02.885911",
     "exception": false,
     "start_time": "2022-09-16T11:00:02.852452",
     "status": "completed"
    },
    "tags": []
   },
   "outputs": [],
   "source": [
    "new_data_1 = new_data.copy()"
   ]
  },
  {
   "cell_type": "code",
   "execution_count": 62,
   "id": "34106810",
   "metadata": {
    "papermill": {
     "duration": 1.321259,
     "end_time": "2022-09-16T11:00:04.232144",
     "exception": false,
     "start_time": "2022-09-16T11:00:02.910885",
     "status": "completed"
    },
    "tags": []
   },
   "outputs": [],
   "source": [
    "new_data_1['Quote'] = new_data_1['Quote'].apply(lambda x: stemming(x)) "
   ]
  },
  {
   "cell_type": "code",
   "execution_count": 63,
   "id": "9244a4f6",
   "metadata": {
    "papermill": {
     "duration": 0.041978,
     "end_time": "2022-09-16T11:00:04.299526",
     "exception": false,
     "start_time": "2022-09-16T11:00:04.257548",
     "status": "completed"
    },
    "tags": []
   },
   "outputs": [
    {
     "data": {
      "text/html": [
       "<div>\n",
       "<style scoped>\n",
       "    .dataframe tbody tr th:only-of-type {\n",
       "        vertical-align: middle;\n",
       "    }\n",
       "\n",
       "    .dataframe tbody tr th {\n",
       "        vertical-align: top;\n",
       "    }\n",
       "\n",
       "    .dataframe thead th {\n",
       "        text-align: right;\n",
       "    }\n",
       "</style>\n",
       "<table border=\"1\" class=\"dataframe\">\n",
       "  <thead>\n",
       "    <tr style=\"text-align: right;\">\n",
       "      <th></th>\n",
       "      <th>Quote</th>\n",
       "      <th>Character</th>\n",
       "      <th>Anime</th>\n",
       "    </tr>\n",
       "  </thead>\n",
       "  <tbody>\n",
       "    <tr>\n",
       "      <th>0</th>\n",
       "      <td>[people, lives, end, die, ends, lose, faith]</td>\n",
       "      <td>[itachi, uchiha]</td>\n",
       "      <td>[naruto]</td>\n",
       "    </tr>\n",
       "    <tr>\n",
       "      <th>1</th>\n",
       "      <td>[take, risks, create, future]</td>\n",
       "      <td>[monkey, d, luffy]</td>\n",
       "      <td>[one, piece]</td>\n",
       "    </tr>\n",
       "    <tr>\n",
       "      <th>2</th>\n",
       "      <td>[like, destiny, accept]</td>\n",
       "      <td>[naruto, uzumaki]</td>\n",
       "      <td>[naruto]</td>\n",
       "    </tr>\n",
       "    <tr>\n",
       "      <th>3</th>\n",
       "      <td>[give, game, ends]</td>\n",
       "      <td>[mitsuyoshi, anzai]</td>\n",
       "      <td>[slam, dunk]</td>\n",
       "    </tr>\n",
       "    <tr>\n",
       "      <th>4</th>\n",
       "      <td>[live, day, die, control, fly, free]</td>\n",
       "      <td>[deneil, young]</td>\n",
       "      <td>[uchuu, kyoudai, or, space, brothers]</td>\n",
       "    </tr>\n",
       "  </tbody>\n",
       "</table>\n",
       "</div>"
      ],
      "text/plain": [
       "                                          Quote            Character  \\\n",
       "0  [people, lives, end, die, ends, lose, faith]     [itachi, uchiha]   \n",
       "1                 [take, risks, create, future]   [monkey, d, luffy]   \n",
       "2                       [like, destiny, accept]    [naruto, uzumaki]   \n",
       "3                            [give, game, ends]  [mitsuyoshi, anzai]   \n",
       "4          [live, day, die, control, fly, free]      [deneil, young]   \n",
       "\n",
       "                                   Anime  \n",
       "0                               [naruto]  \n",
       "1                           [one, piece]  \n",
       "2                               [naruto]  \n",
       "3                           [slam, dunk]  \n",
       "4  [uchuu, kyoudai, or, space, brothers]  "
      ]
     },
     "execution_count": 63,
     "metadata": {},
     "output_type": "execute_result"
    }
   ],
   "source": [
    "new_data.head()"
   ]
  },
  {
   "cell_type": "markdown",
   "id": "ea00bd8a",
   "metadata": {
    "papermill": {
     "duration": 0.02576,
     "end_time": "2022-09-16T11:00:04.350619",
     "exception": false,
     "start_time": "2022-09-16T11:00:04.324859",
     "status": "completed"
    },
    "tags": []
   },
   "source": [
    "*Here we need to understand the difference between the stemming and lemmatization because there can be trade-off between the accuracy when used either of them , stemming is fast process but it is also very brutal whereas the lemmatization is typically more accurate than stemming because the original meaning of the word is preserved.*"
   ]
  },
  {
   "cell_type": "markdown",
   "id": "bf50d4e3",
   "metadata": {
    "papermill": {
     "duration": 0.024914,
     "end_time": "2022-09-16T11:00:04.400848",
     "exception": false,
     "start_time": "2022-09-16T11:00:04.375934",
     "status": "completed"
    },
    "tags": []
   },
   "source": [
    "# Lemmatization"
   ]
  },
  {
   "cell_type": "code",
   "execution_count": 64,
   "id": "dd79e57e",
   "metadata": {
    "papermill": {
     "duration": 0.067873,
     "end_time": "2022-09-16T11:00:04.494440",
     "exception": false,
     "start_time": "2022-09-16T11:00:04.426567",
     "status": "completed"
    },
    "tags": []
   },
   "outputs": [],
   "source": [
    "#import ntlk\n",
    "#nltk.download('wordnet')\n",
    "from nltk.stem import WordNetLemmatizer\n",
    "from textblob import TextBlob , Word, Blobber\n",
    "from textblob.taggers import NLTKTagger\n",
    "\n",
    "w = nltk.WordNetLemmatizer()"
   ]
  },
  {
   "cell_type": "code",
   "execution_count": 65,
   "id": "7e4e4c3b",
   "metadata": {
    "papermill": {
     "duration": 0.034018,
     "end_time": "2022-09-16T11:00:04.553770",
     "exception": false,
     "start_time": "2022-09-16T11:00:04.519752",
     "status": "completed"
    },
    "tags": []
   },
   "outputs": [],
   "source": [
    "def lemmatization(tokenized_text):\n",
    "    text_lemma = [w.lemmatize(word) for word in tokenized_text]\n",
    "    return text_lemma\n",
    "\n",
    "#this type of functions works when we need to work with the list dataset."
   ]
  },
  {
   "cell_type": "code",
   "execution_count": 66,
   "id": "479f799a",
   "metadata": {
    "papermill": {
     "duration": 2.221144,
     "end_time": "2022-09-16T11:00:06.799797",
     "exception": false,
     "start_time": "2022-09-16T11:00:04.578653",
     "status": "completed"
    },
    "tags": []
   },
   "outputs": [],
   "source": [
    "new_data['Quote'] = new_data['Quote'].apply(lambda x: lemmatization(x))"
   ]
  },
  {
   "cell_type": "code",
   "execution_count": 67,
   "id": "d06d13ed",
   "metadata": {
    "papermill": {
     "duration": 0.066044,
     "end_time": "2022-09-16T11:00:06.906441",
     "exception": false,
     "start_time": "2022-09-16T11:00:06.840397",
     "status": "completed"
    },
    "tags": []
   },
   "outputs": [
    {
     "data": {
      "text/html": [
       "<div>\n",
       "<style scoped>\n",
       "    .dataframe tbody tr th:only-of-type {\n",
       "        vertical-align: middle;\n",
       "    }\n",
       "\n",
       "    .dataframe tbody tr th {\n",
       "        vertical-align: top;\n",
       "    }\n",
       "\n",
       "    .dataframe thead th {\n",
       "        text-align: right;\n",
       "    }\n",
       "</style>\n",
       "<table border=\"1\" class=\"dataframe\">\n",
       "  <thead>\n",
       "    <tr style=\"text-align: right;\">\n",
       "      <th></th>\n",
       "      <th>Quote</th>\n",
       "      <th>Character</th>\n",
       "      <th>Anime</th>\n",
       "    </tr>\n",
       "  </thead>\n",
       "  <tbody>\n",
       "    <tr>\n",
       "      <th>0</th>\n",
       "      <td>[people, life, end, die, end, lose, faith]</td>\n",
       "      <td>[itachi, uchiha]</td>\n",
       "      <td>[naruto]</td>\n",
       "    </tr>\n",
       "    <tr>\n",
       "      <th>1</th>\n",
       "      <td>[take, risk, create, future]</td>\n",
       "      <td>[monkey, d, luffy]</td>\n",
       "      <td>[one, piece]</td>\n",
       "    </tr>\n",
       "    <tr>\n",
       "      <th>2</th>\n",
       "      <td>[like, destiny, accept]</td>\n",
       "      <td>[naruto, uzumaki]</td>\n",
       "      <td>[naruto]</td>\n",
       "    </tr>\n",
       "    <tr>\n",
       "      <th>3</th>\n",
       "      <td>[give, game, end]</td>\n",
       "      <td>[mitsuyoshi, anzai]</td>\n",
       "      <td>[slam, dunk]</td>\n",
       "    </tr>\n",
       "    <tr>\n",
       "      <th>4</th>\n",
       "      <td>[live, day, die, control, fly, free]</td>\n",
       "      <td>[deneil, young]</td>\n",
       "      <td>[uchuu, kyoudai, or, space, brothers]</td>\n",
       "    </tr>\n",
       "  </tbody>\n",
       "</table>\n",
       "</div>"
      ],
      "text/plain": [
       "                                        Quote            Character  \\\n",
       "0  [people, life, end, die, end, lose, faith]     [itachi, uchiha]   \n",
       "1                [take, risk, create, future]   [monkey, d, luffy]   \n",
       "2                     [like, destiny, accept]    [naruto, uzumaki]   \n",
       "3                           [give, game, end]  [mitsuyoshi, anzai]   \n",
       "4        [live, day, die, control, fly, free]      [deneil, young]   \n",
       "\n",
       "                                   Anime  \n",
       "0                               [naruto]  \n",
       "1                           [one, piece]  \n",
       "2                               [naruto]  \n",
       "3                           [slam, dunk]  \n",
       "4  [uchuu, kyoudai, or, space, brothers]  "
      ]
     },
     "execution_count": 67,
     "metadata": {},
     "output_type": "execute_result"
    }
   ],
   "source": [
    "new_data.head()"
   ]
  },
  {
   "cell_type": "markdown",
   "id": "93ba3dce",
   "metadata": {
    "papermill": {
     "duration": 0.038676,
     "end_time": "2022-09-16T11:00:06.985789",
     "exception": false,
     "start_time": "2022-09-16T11:00:06.947113",
     "status": "completed"
    },
    "tags": []
   },
   "source": [
    "**we are going with the Lemmatization over stemming.**"
   ]
  },
  {
   "cell_type": "code",
   "execution_count": 68,
   "id": "46d1d668",
   "metadata": {
    "papermill": {
     "duration": 0.076401,
     "end_time": "2022-09-16T11:00:07.102572",
     "exception": false,
     "start_time": "2022-09-16T11:00:07.026171",
     "status": "completed"
    },
    "tags": []
   },
   "outputs": [],
   "source": [
    "new_data['Quote'] = new_data['Quote'].apply(lambda x: \" \".join(x))\n",
    "new_data['Character'] = new_data['Character'].apply(lambda x: \" \".join(x))\n",
    "new_data['Anime'] = new_data['Anime'].apply(lambda x: \" \".join(x))"
   ]
  },
  {
   "cell_type": "code",
   "execution_count": 69,
   "id": "8ff1b8e6",
   "metadata": {
    "papermill": {
     "duration": 0.038831,
     "end_time": "2022-09-16T11:00:07.167396",
     "exception": false,
     "start_time": "2022-09-16T11:00:07.128565",
     "status": "completed"
    },
    "tags": []
   },
   "outputs": [
    {
     "data": {
      "text/html": [
       "<div>\n",
       "<style scoped>\n",
       "    .dataframe tbody tr th:only-of-type {\n",
       "        vertical-align: middle;\n",
       "    }\n",
       "\n",
       "    .dataframe tbody tr th {\n",
       "        vertical-align: top;\n",
       "    }\n",
       "\n",
       "    .dataframe thead th {\n",
       "        text-align: right;\n",
       "    }\n",
       "</style>\n",
       "<table border=\"1\" class=\"dataframe\">\n",
       "  <thead>\n",
       "    <tr style=\"text-align: right;\">\n",
       "      <th></th>\n",
       "      <th>Quote</th>\n",
       "      <th>Character</th>\n",
       "      <th>Anime</th>\n",
       "    </tr>\n",
       "  </thead>\n",
       "  <tbody>\n",
       "    <tr>\n",
       "      <th>0</th>\n",
       "      <td>people life end die end lose faith</td>\n",
       "      <td>itachi uchiha</td>\n",
       "      <td>naruto</td>\n",
       "    </tr>\n",
       "    <tr>\n",
       "      <th>1</th>\n",
       "      <td>take risk create future</td>\n",
       "      <td>monkey d luffy</td>\n",
       "      <td>one piece</td>\n",
       "    </tr>\n",
       "    <tr>\n",
       "      <th>2</th>\n",
       "      <td>like destiny accept</td>\n",
       "      <td>naruto uzumaki</td>\n",
       "      <td>naruto</td>\n",
       "    </tr>\n",
       "    <tr>\n",
       "      <th>3</th>\n",
       "      <td>give game end</td>\n",
       "      <td>mitsuyoshi anzai</td>\n",
       "      <td>slam dunk</td>\n",
       "    </tr>\n",
       "    <tr>\n",
       "      <th>4</th>\n",
       "      <td>live day die control fly free</td>\n",
       "      <td>deneil young</td>\n",
       "      <td>uchuu kyoudai or space brothers</td>\n",
       "    </tr>\n",
       "  </tbody>\n",
       "</table>\n",
       "</div>"
      ],
      "text/plain": [
       "                                Quote         Character  \\\n",
       "0  people life end die end lose faith     itachi uchiha   \n",
       "1             take risk create future    monkey d luffy   \n",
       "2                 like destiny accept    naruto uzumaki   \n",
       "3                       give game end  mitsuyoshi anzai   \n",
       "4       live day die control fly free      deneil young   \n",
       "\n",
       "                             Anime  \n",
       "0                           naruto  \n",
       "1                        one piece  \n",
       "2                           naruto  \n",
       "3                        slam dunk  \n",
       "4  uchuu kyoudai or space brothers  "
      ]
     },
     "execution_count": 69,
     "metadata": {},
     "output_type": "execute_result"
    }
   ],
   "source": [
    "new_data.head()"
   ]
  },
  {
   "cell_type": "markdown",
   "id": "a0f7c0ff",
   "metadata": {
    "papermill": {
     "duration": 0.025264,
     "end_time": "2022-09-16T11:00:07.218797",
     "exception": false,
     "start_time": "2022-09-16T11:00:07.193533",
     "status": "completed"
    },
    "tags": []
   },
   "source": [
    "# Reduction of labels"
   ]
  },
  {
   "cell_type": "code",
   "execution_count": 70,
   "id": "4241cc59",
   "metadata": {
    "papermill": {
     "duration": 0.037872,
     "end_time": "2022-09-16T11:00:07.283396",
     "exception": false,
     "start_time": "2022-09-16T11:00:07.245524",
     "status": "completed"
    },
    "tags": []
   },
   "outputs": [
    {
     "data": {
      "text/plain": [
       "( naruto )          504\n",
       "( bleach )          421\n",
       "( one piece )       207\n",
       "( soul eater )      196\n",
       "( kuroshitsuji )    187\n",
       "Name: Anime, dtype: int64"
      ]
     },
     "execution_count": 70,
     "metadata": {},
     "output_type": "execute_result"
    }
   ],
   "source": [
    "new_data['Anime'].value_counts().head()"
   ]
  },
  {
   "cell_type": "code",
   "execution_count": 71,
   "id": "210c1aac",
   "metadata": {
    "papermill": {
     "duration": 0.034736,
     "end_time": "2022-09-16T11:00:07.344235",
     "exception": false,
     "start_time": "2022-09-16T11:00:07.309499",
     "status": "completed"
    },
    "tags": []
   },
   "outputs": [],
   "source": [
    "new_data_2 =  new_data[new_data['Anime'].isin(['( naruto )','( bleach )','( one piece )','( soul eater )','( kuroshitsuji )'])]\n",
    "\n",
    "# new_data['Anime'].isin(['naruto','bleach'])"
   ]
  },
  {
   "cell_type": "code",
   "execution_count": 72,
   "id": "a86e7c2b",
   "metadata": {
    "papermill": {
     "duration": 0.035362,
     "end_time": "2022-09-16T11:00:07.404884",
     "exception": false,
     "start_time": "2022-09-16T11:00:07.369522",
     "status": "completed"
    },
    "tags": []
   },
   "outputs": [
    {
     "data": {
      "text/plain": [
       "(1515, 3)"
      ]
     },
     "execution_count": 72,
     "metadata": {},
     "output_type": "execute_result"
    }
   ],
   "source": [
    "#new_data[new_data['Anime'].isin(['( naruto )'])].shape\n",
    "new_data_2.shape"
   ]
  },
  {
   "cell_type": "markdown",
   "id": "ab4ed062",
   "metadata": {
    "papermill": {
     "duration": 0.025312,
     "end_time": "2022-09-16T11:00:07.456744",
     "exception": false,
     "start_time": "2022-09-16T11:00:07.431432",
     "status": "completed"
    },
    "tags": []
   },
   "source": [
    "# Vectorizing Raw Data ."
   ]
  },
  {
   "cell_type": "markdown",
   "id": "d411cd28",
   "metadata": {
    "papermill": {
     "duration": 0.025771,
     "end_time": "2022-09-16T11:00:07.508636",
     "exception": false,
     "start_time": "2022-09-16T11:00:07.482865",
     "status": "completed"
    },
    "tags": []
   },
   "source": [
    "I think I should have done it  previosuly, but I will be doing it now. I should have merged both the features columns into one instead of apply in different methods seperately. But I will be merging them now. "
   ]
  },
  {
   "cell_type": "code",
   "execution_count": 73,
   "id": "3d7c6183",
   "metadata": {
    "papermill": {
     "duration": 0.039885,
     "end_time": "2022-09-16T11:00:07.574387",
     "exception": false,
     "start_time": "2022-09-16T11:00:07.534502",
     "status": "completed"
    },
    "tags": []
   },
   "outputs": [
    {
     "data": {
      "text/plain": [
       "0                  soul eater\n",
       "3                        pain\n",
       "44            zaraki kenpachi\n",
       "59      donquixote doflamingo\n",
       "60      donquixote doflamingo\n",
       "                ...          \n",
       "8749                    gaara\n",
       "8750                 rock lee\n",
       "8751           hatake kakashi\n",
       "8752             abarai renji\n",
       "8754          kurosaki ichigo\n",
       "Name: Character, Length: 1515, dtype: object"
      ]
     },
     "execution_count": 73,
     "metadata": {},
     "output_type": "execute_result"
    }
   ],
   "source": [
    "#combining the columns of the dataframe\n",
    "new_data_2['features'] = new_data_2['Quote'] + new_data_2['Character']\n",
    "new_data_2.pop('Quote')\n",
    "new_data_2.pop('Character')"
   ]
  },
  {
   "cell_type": "code",
   "execution_count": 74,
   "id": "c489bac4",
   "metadata": {
    "papermill": {
     "duration": 0.034901,
     "end_time": "2022-09-16T11:00:07.634871",
     "exception": false,
     "start_time": "2022-09-16T11:00:07.599970",
     "status": "completed"
    },
    "tags": []
   },
   "outputs": [
    {
     "data": {
      "text/plain": [
       "(1515, 2)"
      ]
     },
     "execution_count": 74,
     "metadata": {},
     "output_type": "execute_result"
    }
   ],
   "source": [
    "new_data_2.shape"
   ]
  },
  {
   "cell_type": "code",
   "execution_count": 75,
   "id": "b03520ab",
   "metadata": {
    "papermill": {
     "duration": 0.0413,
     "end_time": "2022-09-16T11:00:07.701794",
     "exception": false,
     "start_time": "2022-09-16T11:00:07.660494",
     "status": "completed"
    },
    "tags": []
   },
   "outputs": [
    {
     "data": {
      "text/html": [
       "<div>\n",
       "<style scoped>\n",
       "    .dataframe tbody tr th:only-of-type {\n",
       "        vertical-align: middle;\n",
       "    }\n",
       "\n",
       "    .dataframe tbody tr th {\n",
       "        vertical-align: top;\n",
       "    }\n",
       "\n",
       "    .dataframe thead th {\n",
       "        text-align: right;\n",
       "    }\n",
       "</style>\n",
       "<table border=\"1\" class=\"dataframe\">\n",
       "  <thead>\n",
       "    <tr style=\"text-align: right;\">\n",
       "      <th></th>\n",
       "      <th>Anime</th>\n",
       "      <th>features</th>\n",
       "    </tr>\n",
       "  </thead>\n",
       "  <tbody>\n",
       "    <tr>\n",
       "      <th>0</th>\n",
       "      <td>( soul eater )</td>\n",
       "      <td>end shape form matter soul matter right nothin...</td>\n",
       "    </tr>\n",
       "    <tr>\n",
       "      <th>3</th>\n",
       "      <td>( naruto )</td>\n",
       "      <td>existence love sacrifice born well hate one co...</td>\n",
       "    </tr>\n",
       "    <tr>\n",
       "      <th>44</th>\n",
       "      <td>( bleach )</td>\n",
       "      <td>even interesting fighting someone goalzaraki k...</td>\n",
       "    </tr>\n",
       "    <tr>\n",
       "      <th>59</th>\n",
       "      <td>( one piece )</td>\n",
       "      <td>right whatever tragedy blunder thing actually ...</td>\n",
       "    </tr>\n",
       "    <tr>\n",
       "      <th>60</th>\n",
       "      <td>( one piece )</td>\n",
       "      <td>weaker person get hung people pain self destru...</td>\n",
       "    </tr>\n",
       "  </tbody>\n",
       "</table>\n",
       "</div>"
      ],
      "text/plain": [
       "             Anime                                           features\n",
       "0   ( soul eater )  end shape form matter soul matter right nothin...\n",
       "3       ( naruto )  existence love sacrifice born well hate one co...\n",
       "44      ( bleach )  even interesting fighting someone goalzaraki k...\n",
       "59   ( one piece )  right whatever tragedy blunder thing actually ...\n",
       "60   ( one piece )  weaker person get hung people pain self destru..."
      ]
     },
     "execution_count": 75,
     "metadata": {},
     "output_type": "execute_result"
    }
   ],
   "source": [
    "new_data_2.head()"
   ]
  },
  {
   "cell_type": "code",
   "execution_count": 76,
   "id": "985fc39e",
   "metadata": {
    "papermill": {
     "duration": 0.035847,
     "end_time": "2022-09-16T11:00:07.763276",
     "exception": false,
     "start_time": "2022-09-16T11:00:07.727429",
     "status": "completed"
    },
    "tags": []
   },
   "outputs": [],
   "source": [
    "quotes = new_data_2.drop('Anime',axis=1)\n",
    "anime = new_data['Anime']"
   ]
  },
  {
   "cell_type": "markdown",
   "id": "7a2ac8e2",
   "metadata": {
    "papermill": {
     "duration": 0.025516,
     "end_time": "2022-09-16T11:00:07.815417",
     "exception": false,
     "start_time": "2022-09-16T11:00:07.789901",
     "status": "completed"
    },
    "tags": []
   },
   "source": [
    "> **Tfidf Vectorizer**"
   ]
  },
  {
   "cell_type": "code",
   "execution_count": 77,
   "id": "d3c1ffa6",
   "metadata": {
    "papermill": {
     "duration": 0.069564,
     "end_time": "2022-09-16T11:00:07.911998",
     "exception": false,
     "start_time": "2022-09-16T11:00:07.842434",
     "status": "completed"
    },
    "tags": []
   },
   "outputs": [
    {
     "name": "stdout",
     "output_type": "stream",
     "text": [
      "The shape of the feature vector is (1515, 4771)\n"
     ]
    }
   ],
   "source": [
    "#we will be using the tfid vectorizer in order to vectorize our dataset\n",
    "from sklearn.feature_extraction.text import TfidfTransformer , CountVectorizer\n",
    "\n",
    "tfidf = TfidfVectorizer()\n",
    "\n",
    "features = tfidf.fit_transform(new_data_2['features'])\n",
    "print(\"The shape of the feature vector is {}\".format(features.shape))"
   ]
  },
  {
   "cell_type": "markdown",
   "id": "1ba6a43b",
   "metadata": {
    "papermill": {
     "duration": 0.027069,
     "end_time": "2022-09-16T11:00:07.966693",
     "exception": false,
     "start_time": "2022-09-16T11:00:07.939624",
     "status": "completed"
    },
    "tags": []
   },
   "source": [
    "> **Count Vectorizer**"
   ]
  },
  {
   "cell_type": "code",
   "execution_count": 78,
   "id": "48ed0456",
   "metadata": {
    "papermill": {
     "duration": 0.063917,
     "end_time": "2022-09-16T11:00:08.057324",
     "exception": false,
     "start_time": "2022-09-16T11:00:07.993407",
     "status": "completed"
    },
    "tags": []
   },
   "outputs": [
    {
     "data": {
      "text/plain": [
       "array(['abandon', 'abarai', 'aberline', ..., 'zombiesoul', 'zoro',\n",
       "       'zorodracule'], dtype=object)"
      ]
     },
     "execution_count": 78,
     "metadata": {},
     "output_type": "execute_result"
    }
   ],
   "source": [
    "from sklearn.feature_extraction.text import CountVectorizer\n",
    "\n",
    "count_vect = CountVectorizer()\n",
    "X = count_vect.fit_transform(new_data_2['features'])\n",
    "count_vect.get_feature_names_out()"
   ]
  },
  {
   "cell_type": "code",
   "execution_count": 79,
   "id": "70c3895d",
   "metadata": {
    "papermill": {
     "duration": 0.088054,
     "end_time": "2022-09-16T11:00:08.173072",
     "exception": false,
     "start_time": "2022-09-16T11:00:08.085018",
     "status": "completed"
    },
    "tags": []
   },
   "outputs": [
    {
     "data": {
      "text/plain": [
       "array(['abandon ambition', 'abandon fear', 'abandon friend', ...,\n",
       "       'zombiesoul evans', 'zoro world', 'zorodracule mihawk'],\n",
       "      dtype=object)"
      ]
     },
     "execution_count": 79,
     "metadata": {},
     "output_type": "execute_result"
    }
   ],
   "source": [
    "count_vect_2 = CountVectorizer(analyzer='word',ngram_range=(2,2))\n",
    "X1 = count_vect_2.fit_transform(new_data_2['features'])\n",
    "count_vect_2.get_feature_names_out()"
   ]
  },
  {
   "cell_type": "markdown",
   "id": "368941e7",
   "metadata": {
    "papermill": {
     "duration": 0.026599,
     "end_time": "2022-09-16T11:00:08.226729",
     "exception": false,
     "start_time": "2022-09-16T11:00:08.200130",
     "status": "completed"
    },
    "tags": []
   },
   "source": [
    "# Feature Engineering"
   ]
  },
  {
   "cell_type": "code",
   "execution_count": 80,
   "id": "ead62f70",
   "metadata": {
    "papermill": {
     "duration": 0.037041,
     "end_time": "2022-09-16T11:00:08.290158",
     "exception": false,
     "start_time": "2022-09-16T11:00:08.253117",
     "status": "completed"
    },
    "tags": []
   },
   "outputs": [],
   "source": [
    "#we will look out the length of the words with respect to each character and try to add it as a new feature.\n",
    "new_data_2['features_length'] = new_data_2['features'].apply(lambda x: len(x) - x.count(\" \"))"
   ]
  },
  {
   "cell_type": "code",
   "execution_count": 81,
   "id": "18be73f5",
   "metadata": {
    "papermill": {
     "duration": 0.039255,
     "end_time": "2022-09-16T11:00:08.356235",
     "exception": false,
     "start_time": "2022-09-16T11:00:08.316980",
     "status": "completed"
    },
    "tags": []
   },
   "outputs": [
    {
     "data": {
      "text/html": [
       "<div>\n",
       "<style scoped>\n",
       "    .dataframe tbody tr th:only-of-type {\n",
       "        vertical-align: middle;\n",
       "    }\n",
       "\n",
       "    .dataframe tbody tr th {\n",
       "        vertical-align: top;\n",
       "    }\n",
       "\n",
       "    .dataframe thead th {\n",
       "        text-align: right;\n",
       "    }\n",
       "</style>\n",
       "<table border=\"1\" class=\"dataframe\">\n",
       "  <thead>\n",
       "    <tr style=\"text-align: right;\">\n",
       "      <th></th>\n",
       "      <th>Anime</th>\n",
       "      <th>features</th>\n",
       "      <th>features_length</th>\n",
       "    </tr>\n",
       "  </thead>\n",
       "  <tbody>\n",
       "    <tr>\n",
       "      <th>0</th>\n",
       "      <td>( soul eater )</td>\n",
       "      <td>end shape form matter soul matter right nothin...</td>\n",
       "      <td>53</td>\n",
       "    </tr>\n",
       "    <tr>\n",
       "      <th>3</th>\n",
       "      <td>( naruto )</td>\n",
       "      <td>existence love sacrifice born well hate one co...</td>\n",
       "      <td>63</td>\n",
       "    </tr>\n",
       "    <tr>\n",
       "      <th>44</th>\n",
       "      <td>( bleach )</td>\n",
       "      <td>even interesting fighting someone goalzaraki k...</td>\n",
       "      <td>48</td>\n",
       "    </tr>\n",
       "    <tr>\n",
       "      <th>59</th>\n",
       "      <td>( one piece )</td>\n",
       "      <td>right whatever tragedy blunder thing actually ...</td>\n",
       "      <td>80</td>\n",
       "    </tr>\n",
       "    <tr>\n",
       "      <th>60</th>\n",
       "      <td>( one piece )</td>\n",
       "      <td>weaker person get hung people pain self destru...</td>\n",
       "      <td>62</td>\n",
       "    </tr>\n",
       "  </tbody>\n",
       "</table>\n",
       "</div>"
      ],
      "text/plain": [
       "             Anime                                           features  \\\n",
       "0   ( soul eater )  end shape form matter soul matter right nothin...   \n",
       "3       ( naruto )  existence love sacrifice born well hate one co...   \n",
       "44      ( bleach )  even interesting fighting someone goalzaraki k...   \n",
       "59   ( one piece )  right whatever tragedy blunder thing actually ...   \n",
       "60   ( one piece )  weaker person get hung people pain self destru...   \n",
       "\n",
       "    features_length  \n",
       "0                53  \n",
       "3                63  \n",
       "44               48  \n",
       "59               80  \n",
       "60               62  "
      ]
     },
     "execution_count": 81,
     "metadata": {},
     "output_type": "execute_result"
    }
   ],
   "source": [
    "new_data_2.head()"
   ]
  },
  {
   "cell_type": "code",
   "execution_count": 82,
   "id": "d5accd2f",
   "metadata": {
    "papermill": {
     "duration": 0.092003,
     "end_time": "2022-09-16T11:00:08.475459",
     "exception": false,
     "start_time": "2022-09-16T11:00:08.383456",
     "status": "completed"
    },
    "tags": []
   },
   "outputs": [
    {
     "name": "stdout",
     "output_type": "stream",
     "text": [
      "The shape of the target matrix is (1515,)\n"
     ]
    }
   ],
   "source": [
    "from sklearn.preprocessing import LabelEncoder\n",
    "le = LabelEncoder()\n",
    "y = le.fit_transform(new_data_2['Anime'])\n",
    "print(\"The shape of the target matrix is {}\".format(y.shape))"
   ]
  },
  {
   "cell_type": "code",
   "execution_count": 83,
   "id": "bdcf7117",
   "metadata": {
    "papermill": {
     "duration": 0.035024,
     "end_time": "2022-09-16T11:00:08.536997",
     "exception": false,
     "start_time": "2022-09-16T11:00:08.501973",
     "status": "completed"
    },
    "tags": []
   },
   "outputs": [],
   "source": [
    "target = pd.DataFrame(y)\n",
    "#print(\"finding out the shape of the array when converting it into dataframe {}\".format(pd.DataFrame(y.toarray())))"
   ]
  },
  {
   "cell_type": "code",
   "execution_count": 84,
   "id": "0ff9b9f8",
   "metadata": {
    "papermill": {
     "duration": 0.036928,
     "end_time": "2022-09-16T11:00:08.600648",
     "exception": false,
     "start_time": "2022-09-16T11:00:08.563720",
     "status": "completed"
    },
    "tags": []
   },
   "outputs": [
    {
     "data": {
      "text/plain": [
       "array(['( bleach )', '( kuroshitsuji )', '( naruto )', '( one piece )',\n",
       "       '( soul eater )'], dtype=object)"
      ]
     },
     "execution_count": 84,
     "metadata": {},
     "output_type": "execute_result"
    }
   ],
   "source": [
    "le.classes_"
   ]
  },
  {
   "cell_type": "code",
   "execution_count": 85,
   "id": "7f8a0917",
   "metadata": {
    "papermill": {
     "duration": 0.035087,
     "end_time": "2022-09-16T11:00:08.662568",
     "exception": false,
     "start_time": "2022-09-16T11:00:08.627481",
     "status": "completed"
    },
    "tags": []
   },
   "outputs": [
    {
     "data": {
      "text/plain": [
       "(1515,)"
      ]
     },
     "execution_count": 85,
     "metadata": {},
     "output_type": "execute_result"
    }
   ],
   "source": [
    "new_data_2['Anime'].shape"
   ]
  },
  {
   "cell_type": "code",
   "execution_count": 86,
   "id": "7d8c0643",
   "metadata": {
    "papermill": {
     "duration": 0.283879,
     "end_time": "2022-09-16T11:00:08.973652",
     "exception": false,
     "start_time": "2022-09-16T11:00:08.689773",
     "status": "completed"
    },
    "tags": []
   },
   "outputs": [
    {
     "data": {
      "image/png": "[encoded data removed]",
      "text/plain": [
       "<Figure size 640x480 with 1 Axes>"
      ]
     },
     "metadata": {},
     "output_type": "display_data"
    }
   ],
   "source": [
    "import matplotlib.pyplot as plt\n",
    "%matplotlib inline\n",
    "\n",
    "bins= np.linspace(0,200,40)\n",
    "\n",
    "plt.hist(new_data_2['features_length'],bins)\n",
    "plt.title(\"length of words\")\n",
    "plt.show()"
   ]
  },
  {
   "cell_type": "markdown",
   "id": "777d6fa0",
   "metadata": {
    "papermill": {
     "duration": 0.026866,
     "end_time": "2022-09-16T11:00:09.028278",
     "exception": false,
     "start_time": "2022-09-16T11:00:09.001412",
     "status": "completed"
    },
    "tags": []
   },
   "source": [
    "**Box Cox Power Transformation**"
   ]
  },
  {
   "cell_type": "code",
   "execution_count": 87,
   "id": "aca0859c",
   "metadata": {
    "papermill": {
     "duration": 1.237978,
     "end_time": "2022-09-16T11:00:10.293420",
     "exception": false,
     "start_time": "2022-09-16T11:00:09.055442",
     "status": "completed"
    },
    "tags": []
   },
   "outputs": [
    {
     "data": {
      "image/png": "[encoded data removed]",
      "text/plain": [
       "<Figure size 640x480 with 1 Axes>"
      ]
     },
     "metadata": {},
     "output_type": "display_data"
    },
    {
     "data": {
      "image/png": "[encoded data removed]",
      "text/plain": [
       "<Figure size 640x480 with 1 Axes>"
      ]
     },
     "metadata": {},
     "output_type": "display_data"
    },
    {
     "data": {
      "image/png": "[encoded data removed]",
      "text/plain": [
       "<Figure size 640x480 with 1 Axes>"
      ]
     },
     "metadata": {},
     "output_type": "display_data"
    },
    {
     "data": {
      "image/png": "[encoded data removed]",
      "text/plain": [
       "<Figure size 640x480 with 1 Axes>"
      ]
     },
     "metadata": {},
     "output_type": "display_data"
    },
    {
     "data": {
      "image/png": "[encoded data removed]",
      "text/plain": [
       "<Figure size 640x480 with 1 Axes>"
      ]
     },
     "metadata": {},
     "output_type": "display_data"
    }
   ],
   "source": [
    "for i in [1,2,3,4,5]:\n",
    "    plt.hist((new_data_2['features_length'])**(1/i),bins=40)\n",
    "    plt.title(\"Box Cox transformation results\")\n",
    "    plt.show()"
   ]
  },
  {
   "cell_type": "markdown",
   "id": "915549a1",
   "metadata": {
    "papermill": {
     "duration": 0.02749,
     "end_time": "2022-09-16T11:00:10.350696",
     "exception": false,
     "start_time": "2022-09-16T11:00:10.323206",
     "status": "completed"
    },
    "tags": []
   },
   "source": [
    "# Modelling Data"
   ]
  },
  {
   "cell_type": "code",
   "execution_count": 88,
   "id": "c0769c12",
   "metadata": {
    "papermill": {
     "duration": 0.149253,
     "end_time": "2022-09-16T11:00:10.527354",
     "exception": false,
     "start_time": "2022-09-16T11:00:10.378101",
     "status": "completed"
    },
    "tags": []
   },
   "outputs": [
    {
     "name": "stdout",
     "output_type": "stream",
     "text": [
      "['__abstractmethods__', '__annotations__', '__class__', '__delattr__', '__dict__', '__dir__', '__doc__', '__eq__', '__format__', '__ge__', '__getattribute__', '__getitem__', '__getstate__', '__gt__', '__hash__', '__init__', '__init_subclass__', '__iter__', '__le__', '__len__', '__lt__', '__module__', '__ne__', '__new__', '__reduce__', '__reduce_ex__', '__repr__', '__setattr__', '__setstate__', '__sizeof__', '__str__', '__subclasshook__', '__weakref__', '_abc_impl', '_check_feature_names', '_check_n_features', '_compute_oob_predictions', '_estimator_type', '_get_oob_predictions', '_get_param_names', '_get_tags', '_make_estimator', '_more_tags', '_repr_html_', '_repr_html_inner', '_repr_mimebundle_', '_required_parameters', '_set_oob_score_and_attributes', '_validate_X_predict', '_validate_data', '_validate_estimator', '_validate_y_class_weight', 'apply', 'decision_path', 'feature_importances_', 'fit', 'get_params', 'n_features_', 'predict', 'predict_log_proba', 'predict_proba', 'score', 'set_params']\n",
      "RandomForestClassifier()\n"
     ]
    }
   ],
   "source": [
    "from sklearn.ensemble import RandomForestClassifier\n",
    "\n",
    "print(dir(RandomForestClassifier))\n",
    "print(RandomForestClassifier())"
   ]
  },
  {
   "cell_type": "code",
   "execution_count": 89,
   "id": "ef12ce3c",
   "metadata": {
    "papermill": {
     "duration": 5.349822,
     "end_time": "2022-09-16T11:00:15.905741",
     "exception": false,
     "start_time": "2022-09-16T11:00:10.555919",
     "status": "completed"
    },
    "tags": []
   },
   "outputs": [
    {
     "data": {
      "text/plain": [
       "array([0.73267327, 0.58745875, 0.55445545, 0.71617162, 0.77557756])"
      ]
     },
     "execution_count": 89,
     "metadata": {},
     "output_type": "execute_result"
    }
   ],
   "source": [
    "from sklearn.model_selection import KFold , cross_val_score\n",
    "\n",
    "rf = RandomForestClassifier(n_jobs=-1)\n",
    "k_fold = KFold(n_splits=5)\n",
    "cross_val_score(rf,features,y,cv=k_fold,scoring='accuracy',n_jobs=-1)"
   ]
  },
  {
   "cell_type": "code",
   "execution_count": 90,
   "id": "6dd55f67",
   "metadata": {
    "papermill": {
     "duration": 0.04002,
     "end_time": "2022-09-16T11:00:15.976541",
     "exception": false,
     "start_time": "2022-09-16T11:00:15.936521",
     "status": "completed"
    },
    "tags": []
   },
   "outputs": [],
   "source": [
    "from sklearn.metrics import precision_recall_fscore_support as score\n",
    "from sklearn.model_selection import train_test_split\n",
    "\n",
    "X_train,X_test,y_train,y_test = train_test_split(features,y,test_size=0.2)"
   ]
  },
  {
   "cell_type": "code",
   "execution_count": 91,
   "id": "b0c868eb",
   "metadata": {
    "papermill": {
     "duration": 0.14864,
     "end_time": "2022-09-16T11:00:16.153516",
     "exception": false,
     "start_time": "2022-09-16T11:00:16.004876",
     "status": "completed"
    },
    "tags": []
   },
   "outputs": [],
   "source": [
    "rf1 = RandomForestClassifier(n_estimators=20,max_depth=20,n_jobs=-1)\n",
    "rf_model = rf1.fit(X_train,y_train)"
   ]
  },
  {
   "cell_type": "code",
   "execution_count": 92,
   "id": "77f16ecc",
   "metadata": {
    "papermill": {
     "duration": 0.14292,
     "end_time": "2022-09-16T11:00:16.325264",
     "exception": false,
     "start_time": "2022-09-16T11:00:16.182344",
     "status": "completed"
    },
    "tags": []
   },
   "outputs": [
    {
     "data": {
      "text/plain": [
       "[(0.05577926695665839,),\n",
       " (0.04327623306742814,),\n",
       " (0.042228873829871685,),\n",
       " (0.03663529386197891,),\n",
       " (0.025322566605679053,),\n",
       " (0.024071950326107004,),\n",
       " (0.02135009982685803,),\n",
       " (0.02098997285008735,),\n",
       " (0.020061091854111368,),\n",
       " (0.019372431415513383,)]"
      ]
     },
     "execution_count": 92,
     "metadata": {},
     "output_type": "execute_result"
    }
   ],
   "source": [
    "#we have gathered some of the important features length list here and these are the top10\n",
    "sorted(zip(rf_model.feature_importances_),reverse=True)[0:10]"
   ]
  },
  {
   "cell_type": "code",
   "execution_count": 93,
   "id": "a9527958",
   "metadata": {
    "papermill": {
     "duration": 0.145141,
     "end_time": "2022-09-16T11:00:16.500949",
     "exception": false,
     "start_time": "2022-09-16T11:00:16.355808",
     "status": "completed"
    },
    "tags": []
   },
   "outputs": [
    {
     "name": "stdout",
     "output_type": "stream",
     "text": [
      "The precision for the data is [0.90666667 1.         0.60818713 1.         0.78571429], and the recall is [0.77272727 0.75757576 0.96296296 0.47368421 0.30555556]\n"
     ]
    }
   ],
   "source": [
    "y_pred = rf_model.predict(X_test)\n",
    "precision , recall , fscore, support = score(y_test,y_pred)\n",
    "\n",
    "#finding out the precision , recall and the accuracy score of the dataset\n",
    "print(\"The precision for the data is {}, and the recall is {}\"\n",
    "      .format(precision,recall))\n",
    "     "
   ]
  },
  {
   "cell_type": "code",
   "execution_count": 94,
   "id": "aa43ab87",
   "metadata": {
    "papermill": {
     "duration": 0.039986,
     "end_time": "2022-09-16T11:00:16.572171",
     "exception": false,
     "start_time": "2022-09-16T11:00:16.532185",
     "status": "completed"
    },
    "tags": []
   },
   "outputs": [
    {
     "name": "stdout",
     "output_type": "stream",
     "text": [
      "The accuracy score of the dataset is 0.7458745874587459\n"
     ]
    }
   ],
   "source": [
    "#loading the important metrics \n",
    "from sklearn.metrics import accuracy_score ,confusion_matrix ,classification_report ,precision_score , recall_score ,hamming_loss\n",
    "#printing out the accuracy score of the dataset\n",
    "print(\"The accuracy score of the dataset is {}\".format(accuracy_score(y_test,y_pred)))"
   ]
  },
  {
   "cell_type": "code",
   "execution_count": 95,
   "id": "4a6c6b90",
   "metadata": {
    "papermill": {
     "duration": 0.045432,
     "end_time": "2022-09-16T11:00:16.645626",
     "exception": false,
     "start_time": "2022-09-16T11:00:16.600194",
     "status": "completed"
    },
    "tags": []
   },
   "outputs": [
    {
     "name": "stdout",
     "output_type": "stream",
     "text": [
      "              precision    recall  f1-score   support\n",
      "\n",
      "           0       0.91      0.77      0.83        88\n",
      "           1       1.00      0.76      0.86        33\n",
      "           2       0.61      0.96      0.75       108\n",
      "           3       1.00      0.47      0.64        38\n",
      "           4       0.79      0.31      0.44        36\n",
      "\n",
      "    accuracy                           0.75       303\n",
      "   macro avg       0.86      0.65      0.70       303\n",
      "weighted avg       0.81      0.75      0.73       303\n",
      "\n",
      "The Hamming loss 0.25412541254125415 is the fraction of labels that are incorrectly predicted.\n"
     ]
    }
   ],
   "source": [
    "print(classification_report(y_test, y_pred))\n",
    "print(\"The Hamming loss {} is the fraction of labels that are incorrectly predicted.\".format(hamming_loss(y_test,y_pred)))\n",
    "#we are getting the least score f1 score for the last category.\n",
    "#for some of the categories the precision is very high , it feels like the model is overfitting to the dataset and we need to check the recalll"
   ]
  },
  {
   "cell_type": "markdown",
   "id": "519d07dd",
   "metadata": {
    "papermill": {
     "duration": 0.027932,
     "end_time": "2022-09-16T11:00:16.703560",
     "exception": false,
     "start_time": "2022-09-16T11:00:16.675628",
     "status": "completed"
    },
    "tags": []
   },
   "source": [
    "** Cohen’s kappa coefficient (κ) is a statistic that is used to measure inter-rater reliability (and also intra-rater reliability) for qualitative (categorical) items. It is generally thought to be a more robust measure than simple percent agreement calculation, as κ takes into account the possibility of the agreement occurring by chance. **"
   ]
  },
  {
   "cell_type": "code",
   "execution_count": 96,
   "id": "8aec561d",
   "metadata": {
    "papermill": {
     "duration": 0.039589,
     "end_time": "2022-09-16T11:00:16.771688",
     "exception": false,
     "start_time": "2022-09-16T11:00:16.732099",
     "status": "completed"
    },
    "tags": []
   },
   "outputs": [
    {
     "data": {
      "text/plain": [
       "0.6395532072673341"
      ]
     },
     "execution_count": 96,
     "metadata": {},
     "output_type": "execute_result"
    }
   ],
   "source": [
    "from sklearn.metrics import cohen_kappa_score\n",
    "cohen_kappa_score(y_test, y_pred)"
   ]
  },
  {
   "cell_type": "code",
   "execution_count": 97,
   "id": "2f581faf",
   "metadata": {
    "papermill": {
     "duration": 0.515648,
     "end_time": "2022-09-16T11:00:17.317371",
     "exception": false,
     "start_time": "2022-09-16T11:00:16.801723",
     "status": "completed"
    },
    "tags": []
   },
   "outputs": [
    {
     "data": {
      "text/plain": [
       "<AxesSubplot:>"
      ]
     },
     "execution_count": 97,
     "metadata": {},
     "output_type": "execute_result"
    },
    {
     "data": {
      "image/png": "[encoded data removed]",
      "text/plain": [
       "<Figure size 1600x700 with 2 Axes>"
      ]
     },
     "metadata": {},
     "output_type": "display_data"
    }
   ],
   "source": [
    "matrix = confusion_matrix(y_test,y_pred)\n",
    "\n",
    "#visualizing the confusion matrix of the dataset\n",
    "import seaborn as sns\n",
    "# Build the plot\n",
    "plt.figure(figsize=(16,7))\n",
    "sns.set(font_scale=1.4)\n",
    "sns.heatmap(matrix, annot=True, annot_kws={'size':10},\n",
    "            cmap=plt.cm.Greens, linewidths=0.2)"
   ]
  },
  {
   "cell_type": "markdown",
   "id": "08c12c76",
   "metadata": {
    "papermill": {
     "duration": 0.029241,
     "end_time": "2022-09-16T11:00:17.376046",
     "exception": false,
     "start_time": "2022-09-16T11:00:17.346805",
     "status": "completed"
    },
    "tags": []
   },
   "source": [
    "> checking out the accuracy at different levels"
   ]
  },
  {
   "cell_type": "code",
   "execution_count": 98,
   "id": "f3c86ec0",
   "metadata": {
    "papermill": {
     "duration": 0.039562,
     "end_time": "2022-09-16T11:00:17.444545",
     "exception": false,
     "start_time": "2022-09-16T11:00:17.404983",
     "status": "completed"
    },
    "tags": []
   },
   "outputs": [],
   "source": [
    "def random_hyper(n_est,depth):\n",
    "    rf = RandomForestClassifier(n_estimators=n_est,max_depth=depth,n_jobs=-1)\n",
    "    rf_model = rf.fit(X_train,y_train)\n",
    "    y_pred = rf_model.predict(X_test)\n",
    "    accuracy = accuracy_score(y_test,y_pred )\n",
    "    precision = precision_score(y_test,y_pred,average='weighted')#for multiclass classification problem it is important to change this parameter\n",
    "    recall = recall_score(y_test,y_pred,average='weighted')\n",
    "    print('Est: {}, Depth: {}, -----------Precision:{} / recall:{} / Accuracy:{}'.format(n_est,depth,\n",
    "                                                                                        round(precision,3),round(recall,3),round(accuracy,3)))"
   ]
  },
  {
   "cell_type": "code",
   "execution_count": 99,
   "id": "0bee5f94",
   "metadata": {
    "papermill": {
     "duration": 4.802855,
     "end_time": "2022-09-16T11:00:22.300285",
     "exception": false,
     "start_time": "2022-09-16T11:00:17.497430",
     "status": "completed"
    },
    "tags": []
   },
   "outputs": [
    {
     "name": "stdout",
     "output_type": "stream",
     "text": [
      "Est: 10, Depth: 10, -----------Precision:0.642 / recall:0.561 / Accuracy:0.561\n",
      "Est: 10, Depth: 20, -----------Precision:0.82 / recall:0.766 / Accuracy:0.766\n",
      "Est: 10, Depth: 30, -----------Precision:0.857 / recall:0.812 / Accuracy:0.812\n",
      "Est: 10, Depth: None, -----------Precision:0.861 / recall:0.855 / Accuracy:0.855\n",
      "Est: 50, Depth: 10, -----------Precision:0.814 / recall:0.611 / Accuracy:0.611\n",
      "Est: 50, Depth: 20, -----------Precision:0.876 / recall:0.832 / Accuracy:0.832\n",
      "Est: 50, Depth: 30, -----------Precision:0.869 / recall:0.825 / Accuracy:0.825\n",
      "Est: 50, Depth: None, -----------Precision:0.888 / recall:0.868 / Accuracy:0.868\n",
      "Est: 100, Depth: 10, -----------Precision:0.82 / recall:0.637 / Accuracy:0.637\n",
      "Est: 100, Depth: 20, -----------Precision:0.884 / recall:0.835 / Accuracy:0.835\n",
      "Est: 100, Depth: 30, -----------Precision:0.887 / recall:0.848 / Accuracy:0.848\n",
      "Est: 100, Depth: None, -----------Precision:0.895 / recall:0.871 / Accuracy:0.871\n"
     ]
    }
   ],
   "source": [
    "for n_est in [10,50,100]:\n",
    "    for depth in [10,20,30,None]:\n",
    "        random_hyper(n_est,depth)"
   ]
  },
  {
   "cell_type": "markdown",
   "id": "2adaa5c5",
   "metadata": {
    "papermill": {
     "duration": 0.029673,
     "end_time": "2022-09-16T11:00:22.361073",
     "exception": false,
     "start_time": "2022-09-16T11:00:22.331400",
     "status": "completed"
    },
    "tags": []
   },
   "source": [
    "# Exploring the GridSearchCV"
   ]
  },
  {
   "cell_type": "code",
   "execution_count": 100,
   "id": "c3256bef",
   "metadata": {
    "papermill": {
     "duration": 55.959058,
     "end_time": "2022-09-16T11:01:18.349563",
     "exception": false,
     "start_time": "2022-09-16T11:00:22.390505",
     "status": "completed"
    },
    "tags": []
   },
   "outputs": [
    {
     "data": {
      "text/html": [
       "<div>\n",
       "<style scoped>\n",
       "    .dataframe tbody tr th:only-of-type {\n",
       "        vertical-align: middle;\n",
       "    }\n",
       "\n",
       "    .dataframe tbody tr th {\n",
       "        vertical-align: top;\n",
       "    }\n",
       "\n",
       "    .dataframe thead th {\n",
       "        text-align: right;\n",
       "    }\n",
       "</style>\n",
       "<table border=\"1\" class=\"dataframe\">\n",
       "  <thead>\n",
       "    <tr style=\"text-align: right;\">\n",
       "      <th></th>\n",
       "      <th>mean_fit_time</th>\n",
       "      <th>std_fit_time</th>\n",
       "      <th>mean_score_time</th>\n",
       "      <th>std_score_time</th>\n",
       "      <th>param_max_depth</th>\n",
       "      <th>param_n_estimators</th>\n",
       "      <th>params</th>\n",
       "      <th>split0_test_score</th>\n",
       "      <th>split1_test_score</th>\n",
       "      <th>split2_test_score</th>\n",
       "      <th>split3_test_score</th>\n",
       "      <th>split4_test_score</th>\n",
       "      <th>mean_test_score</th>\n",
       "      <th>std_test_score</th>\n",
       "      <th>rank_test_score</th>\n",
       "    </tr>\n",
       "  </thead>\n",
       "  <tbody>\n",
       "    <tr>\n",
       "      <th>10</th>\n",
       "      <td>5.563345</td>\n",
       "      <td>0.271383</td>\n",
       "      <td>0.043366</td>\n",
       "      <td>0.013489</td>\n",
       "      <td>None</td>\n",
       "      <td>150</td>\n",
       "      <td>{'max_depth': None, 'n_estimators': 150}</td>\n",
       "      <td>0.798680</td>\n",
       "      <td>0.732673</td>\n",
       "      <td>0.712871</td>\n",
       "      <td>0.782178</td>\n",
       "      <td>0.801980</td>\n",
       "      <td>0.765677</td>\n",
       "      <td>0.036214</td>\n",
       "      <td>1</td>\n",
       "    </tr>\n",
       "    <tr>\n",
       "      <th>11</th>\n",
       "      <td>9.530299</td>\n",
       "      <td>0.569739</td>\n",
       "      <td>0.077380</td>\n",
       "      <td>0.022764</td>\n",
       "      <td>None</td>\n",
       "      <td>300</td>\n",
       "      <td>{'max_depth': None, 'n_estimators': 300}</td>\n",
       "      <td>0.795380</td>\n",
       "      <td>0.729373</td>\n",
       "      <td>0.716172</td>\n",
       "      <td>0.778878</td>\n",
       "      <td>0.792079</td>\n",
       "      <td>0.762376</td>\n",
       "      <td>0.033069</td>\n",
       "      <td>2</td>\n",
       "    </tr>\n",
       "    <tr>\n",
       "      <th>8</th>\n",
       "      <td>9.013660</td>\n",
       "      <td>0.560414</td>\n",
       "      <td>0.059264</td>\n",
       "      <td>0.010657</td>\n",
       "      <td>90</td>\n",
       "      <td>300</td>\n",
       "      <td>{'max_depth': 90, 'n_estimators': 300}</td>\n",
       "      <td>0.778878</td>\n",
       "      <td>0.709571</td>\n",
       "      <td>0.709571</td>\n",
       "      <td>0.775578</td>\n",
       "      <td>0.785479</td>\n",
       "      <td>0.751815</td>\n",
       "      <td>0.034639</td>\n",
       "      <td>3</td>\n",
       "    </tr>\n",
       "    <tr>\n",
       "      <th>7</th>\n",
       "      <td>4.886248</td>\n",
       "      <td>0.370873</td>\n",
       "      <td>0.040624</td>\n",
       "      <td>0.014602</td>\n",
       "      <td>90</td>\n",
       "      <td>150</td>\n",
       "      <td>{'max_depth': 90, 'n_estimators': 150}</td>\n",
       "      <td>0.782178</td>\n",
       "      <td>0.709571</td>\n",
       "      <td>0.693069</td>\n",
       "      <td>0.765677</td>\n",
       "      <td>0.788779</td>\n",
       "      <td>0.747855</td>\n",
       "      <td>0.039083</td>\n",
       "      <td>4</td>\n",
       "    </tr>\n",
       "    <tr>\n",
       "      <th>4</th>\n",
       "      <td>3.342119</td>\n",
       "      <td>0.503056</td>\n",
       "      <td>0.026198</td>\n",
       "      <td>0.006859</td>\n",
       "      <td>60</td>\n",
       "      <td>150</td>\n",
       "      <td>{'max_depth': 60, 'n_estimators': 150}</td>\n",
       "      <td>0.772277</td>\n",
       "      <td>0.712871</td>\n",
       "      <td>0.689769</td>\n",
       "      <td>0.765677</td>\n",
       "      <td>0.765677</td>\n",
       "      <td>0.741254</td>\n",
       "      <td>0.033501</td>\n",
       "      <td>5</td>\n",
       "    </tr>\n",
       "  </tbody>\n",
       "</table>\n",
       "</div>"
      ],
      "text/plain": [
       "    mean_fit_time  std_fit_time  mean_score_time  std_score_time  \\\n",
       "10       5.563345      0.271383         0.043366        0.013489   \n",
       "11       9.530299      0.569739         0.077380        0.022764   \n",
       "8        9.013660      0.560414         0.059264        0.010657   \n",
       "7        4.886248      0.370873         0.040624        0.014602   \n",
       "4        3.342119      0.503056         0.026198        0.006859   \n",
       "\n",
       "   param_max_depth param_n_estimators  \\\n",
       "10            None                150   \n",
       "11            None                300   \n",
       "8               90                300   \n",
       "7               90                150   \n",
       "4               60                150   \n",
       "\n",
       "                                      params  split0_test_score  \\\n",
       "10  {'max_depth': None, 'n_estimators': 150}           0.798680   \n",
       "11  {'max_depth': None, 'n_estimators': 300}           0.795380   \n",
       "8     {'max_depth': 90, 'n_estimators': 300}           0.778878   \n",
       "7     {'max_depth': 90, 'n_estimators': 150}           0.782178   \n",
       "4     {'max_depth': 60, 'n_estimators': 150}           0.772277   \n",
       "\n",
       "    split1_test_score  split2_test_score  split3_test_score  \\\n",
       "10           0.732673           0.712871           0.782178   \n",
       "11           0.729373           0.716172           0.778878   \n",
       "8            0.709571           0.709571           0.775578   \n",
       "7            0.709571           0.693069           0.765677   \n",
       "4            0.712871           0.689769           0.765677   \n",
       "\n",
       "    split4_test_score  mean_test_score  std_test_score  rank_test_score  \n",
       "10           0.801980         0.765677        0.036214                1  \n",
       "11           0.792079         0.762376        0.033069                2  \n",
       "8            0.785479         0.751815        0.034639                3  \n",
       "7            0.788779         0.747855        0.039083                4  \n",
       "4            0.765677         0.741254        0.033501                5  "
      ]
     },
     "execution_count": 100,
     "metadata": {},
     "output_type": "execute_result"
    }
   ],
   "source": [
    "from sklearn.model_selection import GridSearchCV\n",
    "\n",
    "rf = RandomForestClassifier()\n",
    "param = {'n_estimators':[10,150,300],\n",
    "        'max_depth':[30,60,90,None]}\n",
    "\n",
    "gs = GridSearchCV(rf,param,cv=5 ,n_jobs=-1)\n",
    "gs_model = gs.fit(features,y)\n",
    "pd.DataFrame(gs_model.cv_results_).sort_values('mean_test_score',ascending=False)[0:5]\n"
   ]
  },
  {
   "cell_type": "markdown",
   "id": "d54aee20",
   "metadata": {
    "papermill": {
     "duration": 0.031143,
     "end_time": "2022-09-16T11:01:18.412702",
     "exception": false,
     "start_time": "2022-09-16T11:01:18.381559",
     "status": "completed"
    },
    "tags": []
   },
   "source": [
    "# Gradient Boosing Classifier"
   ]
  },
  {
   "cell_type": "code",
   "execution_count": 101,
   "id": "60ff8581",
   "metadata": {
    "papermill": {
     "duration": 0.039031,
     "end_time": "2022-09-16T11:01:18.482499",
     "exception": false,
     "start_time": "2022-09-16T11:01:18.443468",
     "status": "completed"
    },
    "tags": []
   },
   "outputs": [
    {
     "name": "stdout",
     "output_type": "stream",
     "text": [
      "['_SUPPORTED_LOSS', '__abstractmethods__', '__annotations__', '__class__', '__delattr__', '__dict__', '__dir__', '__doc__', '__eq__', '__format__', '__ge__', '__getattribute__', '__getitem__', '__getstate__', '__gt__', '__hash__', '__init__', '__init_subclass__', '__iter__', '__le__', '__len__', '__lt__', '__module__', '__ne__', '__new__', '__reduce__', '__reduce_ex__', '__repr__', '__setattr__', '__setstate__', '__sizeof__', '__str__', '__subclasshook__', '__weakref__', '_abc_impl', '_check_feature_names', '_check_initialized', '_check_n_features', '_check_params', '_clear_state', '_compute_partial_dependence_recursion', '_estimator_type', '_fit_stage', '_fit_stages', '_get_param_names', '_get_tags', '_init_state', '_is_initialized', '_make_estimator', '_more_tags', '_raw_predict', '_raw_predict_init', '_repr_html_', '_repr_html_inner', '_repr_mimebundle_', '_required_parameters', '_resize_state', '_staged_raw_predict', '_validate_data', '_validate_estimator', '_validate_y', 'apply', 'decision_function', 'feature_importances_', 'fit', 'get_params', 'loss_', 'n_features_', 'predict', 'predict_log_proba', 'predict_proba', 'score', 'set_params', 'staged_decision_function', 'staged_predict', 'staged_predict_proba']\n"
     ]
    }
   ],
   "source": [
    "from sklearn.ensemble import GradientBoostingClassifier\n",
    "\n",
    "print(dir(GradientBoostingClassifier))"
   ]
  },
  {
   "cell_type": "code",
   "execution_count": 102,
   "id": "b0c76919",
   "metadata": {
    "papermill": {
     "duration": 0.04047,
     "end_time": "2022-09-16T11:01:18.553782",
     "exception": false,
     "start_time": "2022-09-16T11:01:18.513312",
     "status": "completed"
    },
    "tags": []
   },
   "outputs": [],
   "source": [
    "def Gradient_hyper(est,depth,lr):\n",
    "    gb = GradientBoostingClassifier(n_estimators=est,max_depth=depth,learning_rate=lr)\n",
    "    gb_model = gb.fit(X_train,y_train)\n",
    "    y_pred = gb_model.predict(X_test)\n",
    "    accuracy = accuracy_score(y_test,y_pred )\n",
    "    precision = precision_score(y_test,y_pred,average='weighted')#for multiclass classification problem it is important to change this parameter\n",
    "    recall = recall_score(y_test,y_pred,average='weighted')\n",
    "    print('Est: {}, Depth: {}, lr :{} -----------Precision:{} / recall:{} / Accuracy:{}'.format(n_est,depth,lr,\n",
    "                                                                                                round(precision,3),round(recall,3),round(accuracy,3)))"
   ]
  },
  {
   "cell_type": "code",
   "execution_count": 103,
   "id": "ed820242",
   "metadata": {
    "papermill": {
     "duration": 398.539006,
     "end_time": "2022-09-16T11:07:57.122687",
     "exception": false,
     "start_time": "2022-09-16T11:01:18.583681",
     "status": "completed"
    },
    "tags": []
   },
   "outputs": [
    {
     "name": "stdout",
     "output_type": "stream",
     "text": [
      "Est: 10, Depth: 10, lr :0.01 -----------Precision:0.442 / recall:0.518 / Accuracy:0.518\n",
      "Est: 10, Depth: 10, lr :0.1 -----------Precision:0.889 / recall:0.855 / Accuracy:0.855\n",
      "Est: 10, Depth: 10, lr :1 -----------Precision:0.881 / recall:0.858 / Accuracy:0.858\n",
      "Est: 10, Depth: 20, lr :0.01 -----------Precision:0.454 / recall:0.578 / Accuracy:0.578\n",
      "Est: 10, Depth: 20, lr :0.1 -----------Precision:0.906 / recall:0.888 / Accuracy:0.888\n",
      "Est: 10, Depth: 20, lr :1 -----------Precision:0.902 / recall:0.884 / Accuracy:0.884\n",
      "Est: 10, Depth: 30, lr :0.01 -----------Precision:0.465 / recall:0.627 / Accuracy:0.627\n",
      "Est: 10, Depth: 30, lr :0.1 -----------Precision:0.906 / recall:0.884 / Accuracy:0.884\n",
      "Est: 10, Depth: 30, lr :1 -----------Precision:0.899 / recall:0.884 / Accuracy:0.884\n",
      "Est: 10, Depth: None, lr :0.01 -----------Precision:0.465 / recall:0.627 / Accuracy:0.627\n",
      "Est: 10, Depth: None, lr :0.1 -----------Precision:0.891 / recall:0.875 / Accuracy:0.875\n",
      "Est: 10, Depth: None, lr :1 -----------Precision:0.898 / recall:0.891 / Accuracy:0.891\n",
      "Est: 50, Depth: 10, lr :0.01 -----------Precision:0.876 / recall:0.818 / Accuracy:0.818\n",
      "Est: 50, Depth: 10, lr :0.1 -----------Precision:0.906 / recall:0.888 / Accuracy:0.888\n",
      "Est: 50, Depth: 10, lr :1 -----------Precision:0.873 / recall:0.851 / Accuracy:0.851\n",
      "Est: 50, Depth: 20, lr :0.01 -----------Precision:0.896 / recall:0.868 / Accuracy:0.868\n",
      "Est: 50, Depth: 20, lr :0.1 -----------Precision:0.912 / recall:0.894 / Accuracy:0.894\n",
      "Est: 50, Depth: 20, lr :1 -----------Precision:0.91 / recall:0.888 / Accuracy:0.888\n",
      "Est: 50, Depth: 30, lr :0.01 -----------Precision:0.903 / recall:0.881 / Accuracy:0.881\n",
      "Est: 50, Depth: 30, lr :0.1 -----------Precision:0.91 / recall:0.894 / Accuracy:0.894\n",
      "Est: 50, Depth: 30, lr :1 -----------Precision:0.9 / recall:0.881 / Accuracy:0.881\n",
      "Est: 50, Depth: None, lr :0.01 -----------Precision:0.892 / recall:0.868 / Accuracy:0.868\n",
      "Est: 50, Depth: None, lr :0.1 -----------Precision:0.892 / recall:0.878 / Accuracy:0.878\n",
      "Est: 50, Depth: None, lr :1 -----------Precision:0.901 / recall:0.891 / Accuracy:0.891\n",
      "Est: 100, Depth: 10, lr :0.01 -----------Precision:0.889 / recall:0.855 / Accuracy:0.855\n",
      "Est: 100, Depth: 10, lr :0.1 -----------Precision:0.912 / recall:0.894 / Accuracy:0.894\n",
      "Est: 100, Depth: 10, lr :1 -----------Precision:0.9 / recall:0.871 / Accuracy:0.871\n",
      "Est: 100, Depth: 20, lr :0.01 -----------Precision:0.902 / recall:0.878 / Accuracy:0.878\n",
      "Est: 100, Depth: 20, lr :0.1 -----------Precision:0.914 / recall:0.898 / Accuracy:0.898\n",
      "Est: 100, Depth: 20, lr :1 -----------Precision:0.902 / recall:0.878 / Accuracy:0.878\n",
      "Est: 100, Depth: 30, lr :0.01 -----------Precision:0.908 / recall:0.888 / Accuracy:0.888\n",
      "Est: 100, Depth: 30, lr :0.1 -----------Precision:0.906 / recall:0.888 / Accuracy:0.888\n",
      "Est: 100, Depth: 30, lr :1 -----------Precision:0.908 / recall:0.888 / Accuracy:0.888\n",
      "Est: 100, Depth: None, lr :0.01 -----------Precision:0.897 / recall:0.878 / Accuracy:0.878\n",
      "Est: 100, Depth: None, lr :0.1 -----------Precision:0.89 / recall:0.878 / Accuracy:0.878\n",
      "Est: 100, Depth: None, lr :1 -----------Precision:0.898 / recall:0.891 / Accuracy:0.891\n"
     ]
    }
   ],
   "source": [
    "for n_est in [10,50,100]:\n",
    "    for depth in [10,20,30,None]:\n",
    "        for lr in [0.01,0.1,1]:\n",
    "            Gradient_hyper(n_est,depth,lr)"
   ]
  },
  {
   "cell_type": "code",
   "execution_count": null,
   "id": "09ae5dec",
   "metadata": {
    "papermill": {
     "duration": 0.031172,
     "end_time": "2022-09-16T11:07:57.186370",
     "exception": false,
     "start_time": "2022-09-16T11:07:57.155198",
     "status": "completed"
    },
    "tags": []
   },
   "outputs": [],
   "source": []
  },
  {
   "cell_type": "markdown",
   "id": "65e8f407",
   "metadata": {
    "papermill": {
     "duration": 0.030819,
     "end_time": "2022-09-16T11:07:57.249811",
     "exception": false,
     "start_time": "2022-09-16T11:07:57.218992",
     "status": "completed"
    },
    "tags": []
   },
   "source": [
    "# Work In Progress"
   ]
  },
  {
   "cell_type": "code",
   "execution_count": null,
   "id": "39d0846b-dd88-4b89-b050-e5961af622cb",
   "metadata": {},
   "outputs": [],
   "source": []
  }
 ],
 "metadata": {
  "kernelspec": {
   "display_name": "Python 3 (ipykernel)",
   "language": "python",
   "name": "python3"
  },
  "language_info": {
   "codemirror_mode": {
    "name": "ipython",
    "version": 3
   },
   "file_extension": ".py",
   "mimetype": "text/x-python",
   "name": "python",
   "nbconvert_exporter": "python",
   "pygments_lexer": "ipython3",
   "version": "3.10.6"
  },
  "papermill": {
   "default_parameters": {},
   "duration": 494.69301,
   "end_time": "2022-09-16T11:07:59.901458",
   "environment_variables": {},
   "exception": null,
   "input_path": "__notebook__.ipynb",
   "output_path": "__notebook__.ipynb",
   "parameters": {},
   "start_time": "2022-09-16T10:59:45.208448",
   "version": "2.3.4"
  }
 },
 "nbformat": 4,
 "nbformat_minor": 5
}
